{
 "cells": [
  {
   "cell_type": "markdown",
   "metadata": {},
   "source": [
    "## Dictionaries\n",
    "\n",
    "**Beispiel:**\n",
    "Nehmen wir an eine Lehrkraft möchte die Noten seiner Klasse in Listen speichern. Dann könnte dies für 4 Schülerinnen zum Beispiel so aussehen:"
   ]
  },
  {
   "cell_type": "code",
   "execution_count": 2,
   "metadata": {},
   "outputs": [],
   "source": [
    "noten = [4,5,5.5,6]"
   ]
  },
  {
   "cell_type": "markdown",
   "metadata": {},
   "source": [
    "Damit die Lehrkraft auch weiss, welche Person zu welcher Note gehört, könnte sie auch noch die Namen in einer Liste speichern:"
   ]
  },
  {
   "cell_type": "code",
   "execution_count": 3,
   "metadata": {},
   "outputs": [],
   "source": [
    "namen =[\"Hannah\",\"Violet\",\"Betty\",\"Delilah\"]"
   ]
  },
  {
   "cell_type": "markdown",
   "metadata": {},
   "source": [
    "Die Noten und der Mittelwert könnten dann folgendermassen ausgegeben werden:"
   ]
  },
  {
   "cell_type": "code",
   "execution_count": 4,
   "metadata": {},
   "outputs": [
    {
     "name": "stdout",
     "output_type": "stream",
     "text": [
      "Die Note von Hannah lautet: 4\n",
      "Die Note von Violet lautet: 5\n",
      "Die Note von Betty lautet: 5.5\n",
      "Die Note von Delilah lautet: 6\n",
      "Mittelwert: 5.125\n"
     ]
    }
   ],
   "source": [
    "total = 0\n",
    "for note in noten:\n",
    "    total+=note\n",
    "\n",
    "for i in range(4):\n",
    "    print(\"Die Note von \"+namen[i]+\" lautet: \"+str(noten[i]))\n",
    "print(\"Mittelwert: \"+str(total/len(noten)))"
   ]
  },
  {
   "cell_type": "markdown",
   "metadata": {},
   "source": [
    "Dies ist aber recht umständlich. Möchte die Lehrkraft die Note von Betty nachschauen, muss sie zuerst den Index von Betty in der Liste namen suchen und dann das entsprechende Element aus der Liste noten ausgeben:"
   ]
  },
  {
   "cell_type": "code",
   "execution_count": 5,
   "metadata": {},
   "outputs": [
    {
     "name": "stdout",
     "output_type": "stream",
     "text": [
      "5.5\n"
     ]
    }
   ],
   "source": [
    "print(noten[namen.index(\"Betty\")])"
   ]
  },
  {
   "cell_type": "markdown",
   "metadata": {},
   "source": [
    "Viel angenehmer wäre ein Befehl à la noten[\"Betty\"]. Dies geht in Python mit Dictionaries. \n",
    "Ein Dictionary besteht aus einer Menge von Schlüssel-Werte-Paaren. \n",
    "\n",
    "In unserem Falle würde dies folgendermassen aussehen:\n"
   ]
  },
  {
   "cell_type": "code",
   "execution_count": 6,
   "metadata": {},
   "outputs": [],
   "source": [
    "noten_dict = {\"Hannah\": 4, \"Violet\": 5, \"Betty\": 5.5, \"Delilah\": 6}"
   ]
  },
  {
   "cell_type": "markdown",
   "metadata": {},
   "source": [
    "Beachten Sie, dass die Klammern geschweift sind.\n",
    "\n",
    "Dabei werden die jeweils ersten Einträge (in unserem Beispiel \"Hannah\", \"Violet\", \"Betty\", \"Delilah\") als **Schlüssel** bezeichnet, die zweiten Einträge (im Beispiel 4,5,5.5, 6) als **Werte**.\n",
    "\n",
    "Während in einer Liste nur Integer-Werte als Indizes verwendet werden können (z.B. li[2], li[-3]), können in einem Dictionary auch andere Objekte als Indizes verwendet werden, zum Beispiel Strings.\n",
    "\n",
    "Nun macht auch der Befehl"
   ]
  },
  {
   "cell_type": "code",
   "execution_count": 7,
   "metadata": {},
   "outputs": [
    {
     "name": "stdout",
     "output_type": "stream",
     "text": [
      "4\n"
     ]
    }
   ],
   "source": [
    "print(noten_dict[\"Hannah\"])"
   ]
  },
  {
   "cell_type": "markdown",
   "metadata": {},
   "source": [
    "Sinn und liefert die Ausgabe 4.\n",
    "\n",
    "Auch bei dictonaries sind for-Schleifen möglich. So liefert die folgende Schleife alle Schlüssel.\n"
   ]
  },
  {
   "cell_type": "code",
   "execution_count": 8,
   "metadata": {},
   "outputs": [
    {
     "name": "stdout",
     "output_type": "stream",
     "text": [
      "Hannah\n",
      "Violet\n",
      "Betty\n",
      "Delilah\n"
     ]
    }
   ],
   "source": [
    "for x in noten_dict:\n",
    "    print(x)"
   ]
  },
  {
   "cell_type": "markdown",
   "metadata": {},
   "source": [
    "Die Werte können mit der folgenden Schleife ausgegeben werden:"
   ]
  },
  {
   "cell_type": "code",
   "execution_count": 9,
   "metadata": {},
   "outputs": [
    {
     "name": "stdout",
     "output_type": "stream",
     "text": [
      "4\n",
      "5\n",
      "5.5\n",
      "6\n"
     ]
    }
   ],
   "source": [
    "for x in noten_dict:\n",
    "    print(noten_dict[x])"
   ]
  },
  {
   "cell_type": "markdown",
   "metadata": {},
   "source": [
    "Oder mit der values()-Funktion:"
   ]
  },
  {
   "cell_type": "code",
   "execution_count": 10,
   "metadata": {},
   "outputs": [
    {
     "name": "stdout",
     "output_type": "stream",
     "text": [
      "4\n",
      "5\n",
      "5.5\n",
      "6\n"
     ]
    }
   ],
   "source": [
    "for x in noten_dict.values():\n",
    "    print(x)"
   ]
  },
  {
   "cell_type": "markdown",
   "metadata": {},
   "source": [
    "Sollen die Schlüssel UND die Werte ausgegeben werden, kann die items()-Funktion verwendet werden."
   ]
  },
  {
   "cell_type": "code",
   "execution_count": 11,
   "metadata": {},
   "outputs": [
    {
     "name": "stdout",
     "output_type": "stream",
     "text": [
      "Hannah 4\n",
      "Violet 5\n",
      "Betty 5.5\n",
      "Delilah 6\n"
     ]
    }
   ],
   "source": [
    "for x, y in noten_dict.items():\n",
    "  print(x, y) "
   ]
  },
  {
   "cell_type": "markdown",
   "metadata": {},
   "source": [
    "Die Länge eines Dictionary kann, genau gleich wie bei Listen und Strings, mit len() bestimmt werden:"
   ]
  },
  {
   "cell_type": "code",
   "execution_count": 12,
   "metadata": {},
   "outputs": [
    {
     "name": "stdout",
     "output_type": "stream",
     "text": [
      "4\n"
     ]
    }
   ],
   "source": [
    "print(len(noten_dict)) "
   ]
  },
  {
   "cell_type": "markdown",
   "metadata": {},
   "source": [
    "Ein neues Schlüssel-Werte-Paar kann wie folgt hinzugefügt werden:"
   ]
  },
  {
   "cell_type": "code",
   "execution_count": 13,
   "metadata": {},
   "outputs": [],
   "source": [
    "noten_dict[\"Braga\"]=3"
   ]
  },
  {
   "cell_type": "code",
   "execution_count": 14,
   "metadata": {},
   "outputs": [
    {
     "name": "stdout",
     "output_type": "stream",
     "text": [
      "{'Hannah': 4, 'Violet': 5, 'Betty': 5.5, 'Delilah': 6, 'Braga': 3}\n"
     ]
    }
   ],
   "source": [
    "print(noten_dict)"
   ]
  },
  {
   "cell_type": "markdown",
   "metadata": {},
   "source": [
    "In einem Dictionary darf jeder Schlüssel nur einmal vorkommen, Werte hingegen mehrmals. Wird ein existierenden Schlüssel-Werte-Paar mit einem bereits existierenden Schlüssel hinzugefügt, wird der alte Eintrag überschrieben. "
   ]
  },
  {
   "cell_type": "code",
   "execution_count": 15,
   "metadata": {},
   "outputs": [],
   "source": [
    "noten_dict[\"Braga\"] = 4"
   ]
  },
  {
   "cell_type": "code",
   "execution_count": 16,
   "metadata": {},
   "outputs": [
    {
     "name": "stdout",
     "output_type": "stream",
     "text": [
      "{'Hannah': 4, 'Violet': 5, 'Betty': 5.5, 'Delilah': 6, 'Braga': 4}\n"
     ]
    }
   ],
   "source": [
    "print(noten_dict)"
   ]
  },
  {
   "cell_type": "markdown",
   "metadata": {},
   "source": [
    "**Aufgabe 1:** Gegeben ist das folgende Programm:"
   ]
  },
  {
   "cell_type": "code",
   "execution_count": 17,
   "metadata": {},
   "outputs": [
    {
     "name": "stdout",
     "output_type": "stream",
     "text": [
      "Passwort ist falsch!\n"
     ]
    }
   ],
   "source": [
    "passwoerter = {\"Hans\": \"1234\", \"Lorelei\": \"$aUerR4hm\", \"Claudia\": \"W4nD3rCeerKUSS\"}\n",
    "name = input(\"Gib deinen Namen ein\")\n",
    "if name in passwoerter:\n",
    "    pw = input(\"Gib dein Passwort ein\")\n",
    "    if pw == passwoerter[name]:\n",
    "        print(\"Anmeldung erfolgreich!\")\n",
    "    else:\n",
    "        print(\"Passwort ist falsch!\")\n",
    "else:\n",
    "    print(\"Dein Name ist nicht in der Liste.\")"
   ]
  },
  {
   "cell_type": "markdown",
   "metadata": {},
   "source": [
    "Was genau macht das Programm?"
   ]
  },
  {
   "cell_type": "markdown",
   "metadata": {},
   "source": [
    "Hier kommt Ihre Antwort hin."
   ]
  },
  {
   "cell_type": "markdown",
   "metadata": {},
   "source": [
    "Mit welchen Eingaben bekommt man die Ausgabe \"Anmeldung erfolgreich\"? Mit welchen \"Passwort ist falsch\"?"
   ]
  },
  {
   "cell_type": "markdown",
   "metadata": {},
   "source": [
    "Hier kommt Ihre Antwort hin."
   ]
  },
  {
   "cell_type": "markdown",
   "metadata": {},
   "source": [
    "**Aufgabe 2:** \n",
    "Was macht das folgende Programm? Warum genau wird der Modulo-Operator (%) verwendet? \n",
    "\n",
    "(Achtung: gturtle wird vom Notebook nicht unterstützt. Sie müssen das Programm in die TigerJython-Umgebung kopieren.)"
   ]
  },
  {
   "cell_type": "code",
   "execution_count": 18,
   "metadata": {},
   "outputs": [
    {
     "ename": "SyntaxError",
     "evalue": "invalid syntax (Temp/ipykernel_10756/1312944647.py, line 5)",
     "output_type": "error",
     "traceback": [
      "\u001b[1;36m  File \u001b[1;32m\"C:\\Users\\andre\\AppData\\Local\\Temp/ipykernel_10756/1312944647.py\"\u001b[1;36m, line \u001b[1;32m5\u001b[0m\n\u001b[1;33m    repeat 3:\u001b[0m\n\u001b[1;37m           ^\u001b[0m\n\u001b[1;31mSyntaxError\u001b[0m\u001b[1;31m:\u001b[0m invalid syntax\n"
     ]
    }
   ],
   "source": [
    "from gturtle import *\n",
    "def dreieck(farbe):\n",
    "    setFillColor(farbe)\n",
    "    startPath()\n",
    "    repeat 3:\n",
    "        fd(50)\n",
    "        rt(120)\n",
    "    fillPath()\n",
    "    \n",
    "makeTurtle()\n",
    "ht()\n",
    "farben ={0: \"red\", 1: \"green\", 2: \"blue\"}\n",
    "for i in range(6):\n",
    "    dreieck(farben[i%3])\n",
    "    rt(60)"
   ]
  },
  {
   "cell_type": "markdown",
   "metadata": {},
   "source": [
    "**Aufgabe 3:** Auch bei Dictionaries können Comprehnsions verwendet werden, man spricht von \"Dict Comprehensions\".\n",
    "- Wie sieht das folgende Dictionary aus. Beantworten Sie die Frage zuerst ohne Computer und überprüfen Sie dann mit einem print-Befehl."
   ]
  },
  {
   "cell_type": "code",
   "execution_count": null,
   "metadata": {},
   "outputs": [],
   "source": [
    "li1 = {x: x*x for x in range(1,10)}"
   ]
  },
  {
   "cell_type": "markdown",
   "metadata": {},
   "source": [
    "- Wie sieht das folgende Dictionary aus. Beantworten Sie die Frage zuerst ohne Computer und überprüfen Sie dann mit einem print-Befehl."
   ]
  },
  {
   "cell_type": "code",
   "execution_count": null,
   "metadata": {},
   "outputs": [],
   "source": [
    "li2 = {b: len(b) for b in [\"hallo\", \"velo\", \"haus\", \"garten\"]}"
   ]
  },
  {
   "cell_type": "markdown",
   "metadata": {},
   "source": [
    "- Erzeugen Sie das folgende Dictionary mit einer Dict Comprehension: $\\{1: 2, 2: 4, 3: 6, 4: 8, 5: 10, 6: 12\\}$\n"
   ]
  },
  {
   "cell_type": "code",
   "execution_count": null,
   "metadata": {},
   "outputs": [],
   "source": [
    "#Hier kommt Ihr Code hin."
   ]
  },
  {
   "cell_type": "markdown",
   "metadata": {},
   "source": [
    "**Aufgabe 4:** Sie möchten ein Fantasy-Spiel erstellen. Dabei soll der Spieler/die Spielerin ein Inventar haben. Das Inventar wird dabei mit einem Dictonary modelliert. Das Inventar könnte zum Beispiel folgendermassen aussehen:"
   ]
  },
  {
   "cell_type": "code",
   "execution_count": 19,
   "metadata": {},
   "outputs": [],
   "source": [
    "inventar = {\"Goldstücke\": 12, \"Fakeln\": 3, \"Schwerter\": 2, \"Bogen\": 1, \"Pfeile\": 17}"
   ]
  },
  {
   "cell_type": "markdown",
   "metadata": {},
   "source": [
    "Schreiben Sie eine Funktion zeige_inventar, welche das Inventar folgendermassen anzeigt:\n",
    "\n",
    "Inventar: <br>\n",
    "12 Goldstücke <br>\n",
    "3 Fakeln <br>\n",
    "2 Schwerter <br>\n",
    "1 Bogen <br>\n",
    "17 Pfeile <br>\n",
    "Anzahl Items: 17"
   ]
  },
  {
   "cell_type": "code",
   "execution_count": null,
   "metadata": {},
   "outputs": [],
   "source": [
    "def zeige_inventar(inventar):\n",
    "    #Hier kommt Ihr Code hin\n",
    "    pass\n",
    "\n",
    "zeige_inventar(inventar)"
   ]
  },
  {
   "cell_type": "markdown",
   "metadata": {},
   "source": [
    "Schreiben Sie eine Funktion genug_gold(inventar, betrag), welche überprüft, ob der Spieler/die Spielerin mindestens so viel Goldstücke hat, wie der Betrag betrag lautet.\n",
    "\n",
    "genug_gold(inventar, 10) müsste True zurückgeben, genug_gold(inventar, 55) False."
   ]
  },
  {
   "cell_type": "code",
   "execution_count": null,
   "metadata": {},
   "outputs": [
    {
     "name": "stdout",
     "output_type": "stream",
     "text": [
      "None\n",
      "None\n"
     ]
    }
   ],
   "source": [
    "def genug_gold(inventar,betrag):\n",
    "    #Hier kommt Ihr Code hin\n",
    "    pass\n",
    "\n",
    "print(genug_gold(inventar, 10))\n",
    "print(genug_gold(inventar, 55))"
   ]
  },
  {
   "cell_type": "markdown",
   "metadata": {},
   "source": [
    "Überlegen Sie sich weitere Funktionen für Ihr kleines Spiel."
   ]
  },
  {
   "cell_type": "code",
   "execution_count": null,
   "metadata": {},
   "outputs": [],
   "source": [
    "# Hier kommt Ihr Code hin"
   ]
  },
  {
   "cell_type": "markdown",
   "metadata": {},
   "source": [
    "**Zusatzaufgabe 2:** Wörterbuch\n",
    "\n",
    "Erstellen Sie ein kleines Wörterbuch deutsch-englisch als Dictonary mit ca. 10 Einträgen (mindestens 2 davon sollten auf deutsch mit \"R\" beginnen) und schreiben Sie ein Programm, welches alle Schlüssel-Wert-Paare ausgibt, deren Schlüssel (deutsches Wort) mit dem Buchstaben \"R\" beginnt."
   ]
  },
  {
   "cell_type": "code",
   "execution_count": null,
   "metadata": {},
   "outputs": [],
   "source": [
    "#Hier kommt Ihr Code hin."
   ]
  },
  {
   "cell_type": "markdown",
   "metadata": {},
   "source": [
    "Lösung:"
   ]
  },
  {
   "cell_type": "code",
   "execution_count": 20,
   "metadata": {},
   "outputs": [
    {
     "name": "stdout",
     "output_type": "stream",
     "text": [
      "Inventar:\n",
      "12 Goldstücke\n",
      "3 Fakeln\n",
      "2 Schwerter\n",
      "1 Bogen\n",
      "17 Pfeile\n",
      "Anzahl Items: 35\n"
     ]
    }
   ],
   "source": [
    "def zeige_inventar(inventar):\n",
    "    print(\"Inventar:\")\n",
    "    anzahl = 0\n",
    "    total = 0\n",
    "    for item, anzahl in inventar.items():\n",
    "        print(f\"{anzahl} {item}\")\n",
    "        total=total+anzahl\n",
    "    print(f\"Anzahl Items: {total}\")\n",
    "\n",
    "zeige_inventar(inventar)"
   ]
  },
  {
   "cell_type": "code",
   "execution_count": null,
   "metadata": {},
   "outputs": [
    {
     "name": "stdout",
     "output_type": "stream",
     "text": [
      "True\n",
      "False\n"
     ]
    }
   ],
   "source": [
    "def genug_gold(inventar,betrag):\n",
    "    return inventar[\"Goldstücke\"] >= betrag\n",
    "\n",
    "print(genug_gold(inventar, 10))\n",
    "print(genug_gold(inventar, 55))"
   ]
  }
 ],
 "metadata": {
  "kernelspec": {
   "display_name": "Python 3.8.11 ('base')",
   "language": "python",
   "name": "python3"
  },
  "language_info": {
   "codemirror_mode": {
    "name": "ipython",
    "version": 3
   },
   "file_extension": ".py",
   "mimetype": "text/x-python",
   "name": "python",
   "nbconvert_exporter": "python",
   "pygments_lexer": "ipython3",
   "version": "3.8.11"
  },
  "orig_nbformat": 4,
  "vscode": {
   "interpreter": {
    "hash": "06857816d295f49859cc9b744cb5307f357aa28072ae1f3fa176dda7f6176408"
   }
  }
 },
 "nbformat": 4,
 "nbformat_minor": 2
}
