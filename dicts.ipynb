{
 "cells": [
  {
   "cell_type": "markdown",
   "source": [
    "## Dictionaries\n",
    "\n",
    "**Beispiel:**\n",
    "Nehmen wir an eine Lehrkraft möchte die Noten seiner Klasse in Listen speichern. Dann könnte dies für 4 Schülerinnen zum Beispiel so aussehen:"
   ],
   "metadata": {}
  },
  {
   "cell_type": "code",
   "execution_count": 1,
   "source": [
    "noten = [4,5,5.5,6]"
   ],
   "outputs": [],
   "metadata": {}
  },
  {
   "cell_type": "markdown",
   "source": [
    "Damit die Lehrkraft auch weiss, welche Person zu welcher Note gehört, könnte sie auch noch die Namen in einer Liste speichern:"
   ],
   "metadata": {}
  },
  {
   "cell_type": "code",
   "execution_count": 2,
   "source": [
    "namen =[\"Hannah\",\"Violet\",\"Betty\",\"Delilah\"]"
   ],
   "outputs": [],
   "metadata": {}
  },
  {
   "cell_type": "markdown",
   "source": [
    "Die Noten und der Mittelwert könnten dann folgendermassen ausgegeben werden:"
   ],
   "metadata": {}
  },
  {
   "cell_type": "code",
   "execution_count": 3,
   "source": [
    "total = 0\r\n",
    "for note in noten:\r\n",
    "    total+=note\r\n",
    "\r\n",
    "for i in range(4):\r\n",
    "    print(\"Die Note von \"+namen[i]+\" lautet: \"+str(noten[i]))\r\n",
    "print(\"Mittelwert: \"+str(total/len(noten)))"
   ],
   "outputs": [
    {
     "output_type": "stream",
     "name": "stdout",
     "text": [
      "Die Note von Hannah lautet: 4\n",
      "Die Note von Violet lautet: 5\n",
      "Die Note von Betty lautet: 5.5\n",
      "Die Note von Delilah lautet: 6\n",
      "Mittelwert: 5.125\n"
     ]
    }
   ],
   "metadata": {}
  },
  {
   "cell_type": "markdown",
   "source": [
    "Dies ist aber recht umständlich. Möchte die Lehrkraft die Note von Betty nachschauen, muss sie zuerst den Index von Betty in der Liste namen suchen und dann das entsprechende Element aus der Liste noten ausgeben:"
   ],
   "metadata": {}
  },
  {
   "cell_type": "code",
   "execution_count": 4,
   "source": [
    "print(noten[namen.index(\"Betty\")])"
   ],
   "outputs": [
    {
     "output_type": "stream",
     "name": "stdout",
     "text": [
      "5.5\n"
     ]
    }
   ],
   "metadata": {}
  },
  {
   "cell_type": "markdown",
   "source": [
    "Viel angenehmer wäre ein Befehl à la noten[\"Betty\"]. Dies geht in Python mit Dictionaries. \r\n",
    "Ein Dictionary besteht aus einer Menge von Schlüssel-Werte-Paaren. \r\n",
    "\r\n",
    "In unserem Falle würde dies folgendermassen aussehen:\r\n"
   ],
   "metadata": {}
  },
  {
   "cell_type": "code",
   "execution_count": 5,
   "source": [
    "noten_dict = {\"Hannah\": 4, \"Violet\": 5, \"Betty\": 5.5, \"Delilah\": 6}"
   ],
   "outputs": [],
   "metadata": {}
  },
  {
   "cell_type": "markdown",
   "source": [
    "Beachten Sie, dass die Klammern geschweift sind.\r\n",
    "\r\n",
    "Dabei werden die jeweils ersten Einträge (in unserem Beispiel \"Hannah\", \"Violet\", \"Betty\", \"Delilah\") als **Schlüssel** bezeichnet, die zweiten Einträge (im Beispiel 4,5,5.5, 6) als **Werte**.\r\n",
    "\r\n",
    "Während in einer Liste nur Integer-Werte als Indizes verwendet werden können (z.B. li[2], li[-3]), können in einem Dictionary auch andere Objekte als Indizes verwendet werden, zum Beispiel Strings.\r\n",
    "\r\n",
    "Nun macht auch der Befehl"
   ],
   "metadata": {}
  },
  {
   "cell_type": "code",
   "execution_count": 7,
   "source": [
    "print(noten_dict[\"Hannah\"])"
   ],
   "outputs": [
    {
     "output_type": "stream",
     "name": "stdout",
     "text": [
      "4\n"
     ]
    }
   ],
   "metadata": {}
  },
  {
   "cell_type": "markdown",
   "source": [
    "Sinn und liefert die Ausgabe 4.\n",
    "\n",
    "Auch bei dictonaries sind for-Schleifen möglich. So liefert die folgende Schleife alle Schlüssel.\n"
   ],
   "metadata": {}
  },
  {
   "cell_type": "code",
   "execution_count": 8,
   "source": [
    "for x in noten_dict:\r\n",
    "    print(x)"
   ],
   "outputs": [
    {
     "output_type": "stream",
     "name": "stdout",
     "text": [
      "Hannah\n",
      "Violet\n",
      "Betty\n",
      "Delilah\n"
     ]
    }
   ],
   "metadata": {}
  },
  {
   "cell_type": "markdown",
   "source": [
    "Die Werte können mit der folgenden Schleife ausgegeben werden:"
   ],
   "metadata": {}
  },
  {
   "cell_type": "code",
   "execution_count": 9,
   "source": [
    "for x in noten_dict:\r\n",
    "    print(noten_dict[x])"
   ],
   "outputs": [
    {
     "output_type": "stream",
     "name": "stdout",
     "text": [
      "4\n",
      "5\n",
      "5.5\n",
      "6\n"
     ]
    }
   ],
   "metadata": {}
  },
  {
   "cell_type": "markdown",
   "source": [
    "Oder mit der values()-Funktion:"
   ],
   "metadata": {}
  },
  {
   "cell_type": "code",
   "execution_count": 10,
   "source": [
    "for x in noten_dict.values():\r\n",
    "    print(x)"
   ],
   "outputs": [
    {
     "output_type": "stream",
     "name": "stdout",
     "text": [
      "4\n",
      "5\n",
      "5.5\n",
      "6\n"
     ]
    }
   ],
   "metadata": {}
  },
  {
   "cell_type": "markdown",
   "source": [
    "Sollen die Schlüssel UND die Werte ausgegeben werden, kann die items()-Funktion verwendet werden."
   ],
   "metadata": {}
  },
  {
   "cell_type": "code",
   "execution_count": 11,
   "source": [
    "for x, y in noten_dict.items():\r\n",
    "  print(x, y) "
   ],
   "outputs": [
    {
     "output_type": "stream",
     "name": "stdout",
     "text": [
      "Hannah 4\n",
      "Violet 5\n",
      "Betty 5.5\n",
      "Delilah 6\n"
     ]
    }
   ],
   "metadata": {}
  },
  {
   "cell_type": "markdown",
   "source": [
    "Die Länge eines Dictionary kann, genau gleich wie bei Listen und Strings, mit len() bestimmt werden:"
   ],
   "metadata": {}
  },
  {
   "cell_type": "code",
   "execution_count": 12,
   "source": [
    "print(len(noten_dict)) "
   ],
   "outputs": [
    {
     "output_type": "stream",
     "name": "stdout",
     "text": [
      "4\n"
     ]
    }
   ],
   "metadata": {}
  },
  {
   "cell_type": "markdown",
   "source": [
    "Ein neues Schlüssel-Werte-Paar kann wie folgt hinzugefügt werden:"
   ],
   "metadata": {}
  },
  {
   "cell_type": "code",
   "execution_count": 13,
   "source": [
    "noten_dict[\"Braga\"]=3"
   ],
   "outputs": [],
   "metadata": {}
  },
  {
   "cell_type": "code",
   "execution_count": 14,
   "source": [
    "print(noten_dict)"
   ],
   "outputs": [
    {
     "output_type": "stream",
     "name": "stdout",
     "text": [
      "{'Hannah': 4, 'Violet': 5, 'Betty': 5.5, 'Delilah': 6, 'Braga': 3}\n"
     ]
    }
   ],
   "metadata": {}
  },
  {
   "cell_type": "markdown",
   "source": [
    "In einem Dictionary darf jeder Schlüssel nur einmal vorkommen, Werte hingegen mehrmals. Wird ein existierenden Schlüssel-Werte-Paar mit einem bereits existierenden Schlüssel hinzugefügt, wird der alte Eintrag überschrieben. "
   ],
   "metadata": {}
  },
  {
   "cell_type": "code",
   "execution_count": 15,
   "source": [
    "noten_dict[\"Braga\"] = 4"
   ],
   "outputs": [],
   "metadata": {}
  },
  {
   "cell_type": "code",
   "execution_count": 16,
   "source": [
    "print(noten_dict)"
   ],
   "outputs": [
    {
     "output_type": "stream",
     "name": "stdout",
     "text": [
      "{'Hannah': 4, 'Violet': 5, 'Betty': 5.5, 'Delilah': 6, 'Braga': 4}\n"
     ]
    }
   ],
   "metadata": {}
  },
  {
   "cell_type": "markdown",
   "source": [
    "**Aufgabe 1:** Gegeben ist das folgende Programm:"
   ],
   "metadata": {}
  },
  {
   "cell_type": "code",
   "execution_count": 4,
   "source": [
    "passwoerter = {\"Hans\": \"1234\", \"Lorelei\": \"$aUerR4hm\", \"Claudia\": \"W4nD3rCeerKUSS\"}\r\n",
    "name = input(\"Gib deinen Namen ein\")\r\n",
    "if name in passwoerter:\r\n",
    "    pw = input(\"Gib dein Passwort ein\")\r\n",
    "    if pw == passwoerter[name]:\r\n",
    "        print(\"Anmeldung erfolgreich!\")\r\n",
    "    else:\r\n",
    "        print(\"Passwort ist falsch!\")\r\n",
    "else:\r\n",
    "    print(\"Dein Name ist nicht in der Liste.\")"
   ],
   "outputs": [
    {
     "output_type": "stream",
     "name": "stdout",
     "text": [
      "Anmeldung erfolgreich!\n"
     ]
    }
   ],
   "metadata": {}
  },
  {
   "cell_type": "markdown",
   "source": [
    "Was genau macht das Programm?"
   ],
   "metadata": {}
  },
  {
   "cell_type": "markdown",
   "source": [
    "Hier kommt Ihre Antwort hin."
   ],
   "metadata": {}
  },
  {
   "cell_type": "markdown",
   "source": [
    "Mit welchen Eingaben bekommt man die Ausgabe \"Anmeldung erfolgreich\"? Mit welchen \"Passwort ist falsch\"?"
   ],
   "metadata": {}
  },
  {
   "cell_type": "markdown",
   "source": [
    "Hier kommt Ihre Antwort hin."
   ],
   "metadata": {}
  },
  {
   "cell_type": "markdown",
   "source": [
    "**Aufgabe 2:** \r\n",
    "Was macht das folgende Programm? Warum genau wird der Modulo-Operator (%) verwendet? \r\n",
    "\r\n",
    "(Achtung: gturtle wird vom Notebook nicht unterstützt. Sie müssen das Programm in die TigerJython-Umgebung kopieren.)"
   ],
   "metadata": {}
  },
  {
   "cell_type": "code",
   "execution_count": 6,
   "source": [
    "from gturtle import *\r\n",
    "def dreieck(farbe):\r\n",
    "    setFillColor(farbe)\r\n",
    "    startPath()\r\n",
    "    repeat 3:\r\n",
    "        fd(50)\r\n",
    "        rt(120)\r\n",
    "    fillPath()\r\n",
    "    \r\n",
    "makeTurtle()\r\n",
    "ht()\r\n",
    "farben ={0: \"red\", 1: \"green\", 2: \"blue\"}\r\n",
    "for i in range(6):\r\n",
    "    dreieck(farben[i%3])\r\n",
    "    rt(60)"
   ],
   "outputs": [
    {
     "output_type": "error",
     "ename": "SyntaxError",
     "evalue": "invalid syntax (<ipython-input-6-a1d528a54c15>, line 5)",
     "traceback": [
      "\u001b[1;36m  File \u001b[1;32m\"<ipython-input-6-a1d528a54c15>\"\u001b[1;36m, line \u001b[1;32m5\u001b[0m\n\u001b[1;33m    repeat 3:\u001b[0m\n\u001b[1;37m           ^\u001b[0m\n\u001b[1;31mSyntaxError\u001b[0m\u001b[1;31m:\u001b[0m invalid syntax\n"
     ]
    }
   ],
   "metadata": {}
  },
  {
   "cell_type": "markdown",
   "source": [
    "**ZUsatzaufgabe 1: (nur für Leute, die List Comprehension kennen)** Auch bei Dictionaries können Comprehnsions verwendet werden, man spricht von \"Dict Comprehensions\".\r\n",
    "- Wie sieht das folgende Dictionary aus. Beantworten Sie die Frage zuerst ohne Computer und überprüfen Sie dann mit einem print-Befehl."
   ],
   "metadata": {}
  },
  {
   "cell_type": "code",
   "execution_count": 17,
   "source": [
    "li1 = {x: x*x for x in range(1,10)}"
   ],
   "outputs": [],
   "metadata": {}
  },
  {
   "cell_type": "markdown",
   "source": [
    "- Wie sieht das folgende Dictionary aus. Beantworten Sie die Frage zuerst ohne Computer und überprüfen Sie dann mit einem print-Befehl."
   ],
   "metadata": {}
  },
  {
   "cell_type": "code",
   "execution_count": 18,
   "source": [
    "li2 = {b: len(b) for b in [\"hallo\", \"velo\", \"haus\", \"garten\"]}"
   ],
   "outputs": [],
   "metadata": {}
  },
  {
   "cell_type": "markdown",
   "source": [
    "- Erzeugen Sie das folgende Dictionary mit einer Dict Comprehension: $\\{1: 2, 2: 4, 3: 6, 4: 8, 5: 10, 6: 12\\}$\n"
   ],
   "metadata": {}
  },
  {
   "cell_type": "code",
   "execution_count": null,
   "source": [
    "#Hier kommt Ihr Code hin."
   ],
   "outputs": [],
   "metadata": {}
  },
  {
   "cell_type": "markdown",
   "source": [
    "**Aufgabe 3:** Sie möchten ein Fantasy-Spiel erstellen. Dabei soll der Spieler/die Spielerin ein Inventar haben. Das Inventar wird dabei mit einem Dictonary modelliert. Das Inventar könnte zum Beispiel folgendermassen aussehen:"
   ],
   "metadata": {}
  },
  {
   "cell_type": "code",
   "execution_count": 8,
   "source": [
    "inventar = {\"Goldstücke\": 12, \"Fakeln\": 3, \"Schwerter\": 2, \"Bogen\": 1, \"Pfeile\": 17}"
   ],
   "outputs": [],
   "metadata": {}
  },
  {
   "cell_type": "markdown",
   "source": [
    "Schreiben Sie eine Funktion zeige_inventar, welche das Inventar folgendermassen anzeigt:\n",
    "\n",
    "Inventar: <br>\n",
    "12 Goldstücke <br>\n",
    "3 Fakeln <br>\n",
    "2 Schwerter <br>\n",
    "1 Bogen <br>\n",
    "17 Pfeile <br>\n",
    "Anzahl Items: 17"
   ],
   "metadata": {}
  },
  {
   "cell_type": "code",
   "execution_count": 9,
   "source": [
    "def zeige_inventar(inventar):\r\n",
    "    #Hier kommt Ihr Code hin\r\n",
    "    pass\r\n",
    "\r\n",
    "zeige_inventar(inventar)"
   ],
   "outputs": [],
   "metadata": {}
  },
  {
   "cell_type": "markdown",
   "source": [
    "Schreiben Sie eine Funktion genug_gold(inventar, betrag), welche überprüft, ob der Spieler/die Spielerin mindestens so viel Goldstücke hat, wie der Betrag betrag lautet.\n",
    "\n",
    "genug_gold(inventar, 10) müsste True zurückgeben, genug_gold(inventar, 55) False."
   ],
   "metadata": {}
  },
  {
   "cell_type": "code",
   "execution_count": 10,
   "source": [
    "def genug_gold(inventar,betrag):\r\n",
    "    #Hier kommt Ihr Code hin\r\n",
    "    pass\r\n",
    "\r\n",
    "print(genug_gold(inventar, 10))\r\n",
    "print(genug_gold(inventar, 55))"
   ],
   "outputs": [
    {
     "output_type": "stream",
     "name": "stdout",
     "text": [
      "None\n",
      "None\n"
     ]
    }
   ],
   "metadata": {}
  },
  {
   "cell_type": "markdown",
   "source": [
    "Überlegen Sie sich weitere Funktionen für Ihr kleines Spiel."
   ],
   "metadata": {}
  },
  {
   "cell_type": "code",
   "execution_count": null,
   "source": [
    "# Hier kommt Ihr Code hin"
   ],
   "outputs": [],
   "metadata": {}
  },
  {
   "cell_type": "markdown",
   "source": [
    "**Zusatzaufgabe 2:** Wörterbuch\r\n",
    "\r\n",
    "Erstellen Sie ein kleines Wörterbuch deutsch-englisch als Dictonary mit ca. 10 Einträgen (mindestens 2 davon sollten auf deutsch mit \"R\" beginnen) und schreiben Sie ein Programm, welches alle Schlüssel-Wert-Paare ausgibt, deren Schlüssel (deutsches Wort) mit dem Buchstaben \"R\" beginnt."
   ],
   "metadata": {}
  },
  {
   "cell_type": "code",
   "execution_count": null,
   "source": [
    "#Hier kommt Ihr Code hin."
   ],
   "outputs": [],
   "metadata": {}
  }
 ],
 "metadata": {
  "interpreter": {
   "hash": "26130839a7e87fd59e038942810dbb4909e5232b32b1ad521e6a6bc3043702c6"
  },
  "kernelspec": {
   "display_name": "Python 3.8.8 64-bit ('base': conda)",
   "name": "python3"
  },
  "language_info": {
   "name": "python",
   "version": ""
  },
  "orig_nbformat": 4
 },
 "nbformat": 4,
 "nbformat_minor": 2
}