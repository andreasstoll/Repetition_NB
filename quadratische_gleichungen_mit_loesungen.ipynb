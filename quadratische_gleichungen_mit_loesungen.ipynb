{
 "cells": [
  {
   "cell_type": "markdown",
   "source": [
    "## Quadratische Gleichungen mit Python\n",
    "\n",
    "In diesem Notebook wollen wir mit Hife von Python quadratische Gleichungen lösen. Zuerst beschäftigen wir uns aber mit f-Strings."
   ],
   "metadata": {}
  },
  {
   "cell_type": "markdown",
   "source": [
    "### f-Strings\n",
    "\n",
    "f-Strings werden zum Formatieren von Strings verwendet. Ein f-String besteht aus dem Buchstaben f bzw. F und einem String in einfache, doppelten oder dreifachen Anführungszeichen."
   ],
   "metadata": {}
  },
  {
   "cell_type": "code",
   "execution_count": 1,
   "source": [
    "x=f\"hallo\"\r\n",
    "\r\n",
    "print(type(x))\r\n",
    "print(x)"
   ],
   "outputs": [
    {
     "output_type": "stream",
     "name": "stdout",
     "text": [
      "<class 'str'>\n",
      "hallo\n"
     ]
    }
   ],
   "metadata": {}
  },
  {
   "cell_type": "markdown",
   "source": [
    "Der Vorteil von f-Strings ist, dass in geschweiften Klammern ({}) Python-Ausdrücke geschrieben werden können, welche zur Ausführzeit augewertet werden."
   ],
   "metadata": {}
  },
  {
   "cell_type": "markdown",
   "source": [
    "**Beispiel:**"
   ],
   "metadata": {}
  },
  {
   "cell_type": "code",
   "execution_count": 2,
   "source": [
    "from math import sqrt #Importiert aus dem Modul math die Wurzelfunktion sqrt\r\n",
    "a = 3\r\n",
    "b = 4\r\n",
    "\r\n",
    "print(f'Sind in einem rechtwinkligen Dreieck die Katheten a = {a} cm und b = {b} cm lang, so ist die Hypotenuse c = {sqrt(a**2+b**2)} cm lang.')\r\n"
   ],
   "outputs": [
    {
     "output_type": "stream",
     "name": "stdout",
     "text": [
      "Sind in einem rechtwinkligen Dreieck die Katheten a = 3 cm und b = 4 cm lang, so ist die Hypotenuse c = 5.0 cm lang.\n"
     ]
    }
   ],
   "metadata": {}
  },
  {
   "cell_type": "markdown",
   "source": [
    "**Beispiel:**"
   ],
   "metadata": {}
  },
  {
   "cell_type": "code",
   "execution_count": 3,
   "source": [
    "name = input(\"Wie lautet dein Name\")\n",
    "print(f\"Dein Name lautet {name}.\")"
   ],
   "outputs": [
    {
     "output_type": "stream",
     "name": "stdout",
     "text": [
      "Dein Name lautet Hans.\n"
     ]
    }
   ],
   "metadata": {}
  },
  {
   "cell_type": "markdown",
   "source": [
    "**Aufgabe 1:** Schreiben Sie mit Hilfe eines f-Strings ein kleines Programm mit zwei Variablen x und y, denen Sie Werte zuweisen, und einer Ausgabe der Form \"Das Produkt von x und y ist 45.\""
   ],
   "metadata": {}
  },
  {
   "cell_type": "code",
   "execution_count": 66,
   "source": [
    "#Hier kommt ihr Programm hin"
   ],
   "outputs": [],
   "metadata": {}
  },
  {
   "cell_type": "markdown",
   "source": [
    "### Quadratische Gleichungen\n",
    "\n",
    "Wir wollen eine Funktion schreiben, welche quadratische Gleichungen der Form $ax^2+bx+c=0$ löst. Dabei soll diese Funktion die Lösungen als Liste ausgeben. Hat die Gleichung keine Lösung, so soll die Liste leer sein.\n",
    "\n",
    "Eine quadratische Gleichung speichern wir dabei ebenfalls in einer Liste, wobei wir die Koeffizienten als Elemente der Liste abspeichern. Die quadratische Gleichng $2x^2+5x-1=0$ soll zum Beispiel als Liste $[2,5,-1]$ gespeichert werden.\n",
    "\n",
    "**Beispiel:**"
   ],
   "metadata": {}
  },
  {
   "cell_type": "code",
   "execution_count": 67,
   "source": [
    "gleichung_1 = [2,5,-1]\n",
    "\n",
    "print(str(gleichung_1[0])+\"x^2+\"+str(gleichung_1[1])+\"x\"+str(gleichung_1[2])+\"=0\")"
   ],
   "outputs": [
    {
     "output_type": "stream",
     "name": "stdout",
     "text": [
      "2x^2+5x-1=0\n"
     ]
    }
   ],
   "metadata": {}
  },
  {
   "cell_type": "markdown",
   "source": [
    "**Zur Erinnerung:** In Python kann auf Elemente einer Liste mit eckigen Klammern zugegriffen werden. Dabei wird immer mit 0 zu zählen begonnen."
   ],
   "metadata": {}
  },
  {
   "cell_type": "code",
   "execution_count": 68,
   "source": [
    "tiere = [\"Hund\", \"Katze\", \"Papagei\", \"Krokodil\", \"Hase\", \"Ameise\", \"Einhorn\"]\n",
    "print(tiere[0])\n",
    "print(tiere[2])\n"
   ],
   "outputs": [
    {
     "output_type": "stream",
     "name": "stdout",
     "text": [
      "Hund\n",
      "Papagei\n"
     ]
    }
   ],
   "metadata": {}
  },
  {
   "cell_type": "markdown",
   "source": [
    "**Zur Erinnerung**: So werden Funktionen in Python umgesetzt:"
   ],
   "metadata": {}
  },
  {
   "cell_type": "code",
   "execution_count": 69,
   "source": [
    "def quadrat(zahl):\n",
    "    \"\"\"Funktion, welche das Quadrat einer Zahl berechnet\"\"\"\n",
    "    return zahl**2\n",
    "\n",
    "resultat = quadrat(5) #Funktionsaufruf\n",
    "print(resultat)"
   ],
   "outputs": [
    {
     "output_type": "stream",
     "name": "stdout",
     "text": [
      "25\n"
     ]
    }
   ],
   "metadata": {}
  },
  {
   "cell_type": "markdown",
   "source": [
    "**Aufgabe 2:** Die Ausgabe der quadratischen Gleichung im obigen Beispiel ist sehr umständlich geschrieben. Schreiben Sie eine Funktion print_gleichung(gleichung), welche eine Liste gleichung mit 3 Elementen als Argument bekommt und die entsprechende Gleichung mit Hilfe eines f-Strings ausgibt.\r\n",
    "\r\n",
    "Zum Beispiel müsste print_gleichung$([3,5,7])$ die Ausgabe 3x^2+5x+7=0 erzeugen."
   ],
   "metadata": {}
  },
  {
   "cell_type": "code",
   "execution_count": 70,
   "source": [
    "def print_gleichung(gleichung):\n",
    "    #Hier kommt ihr Code hin\n",
    "    pass #Dies ist eine Nichtoperation, bei Ausführen passiert nichts\n",
    "\n",
    "gleichung_2 = [3,5,7]\n",
    "print_gleichung(gleichung_2) #Zum Testen Ihrer Funktion"
   ],
   "outputs": [],
   "metadata": {}
  },
  {
   "cell_type": "markdown",
   "source": [
    "**Lösung**"
   ],
   "metadata": {}
  },
  {
   "cell_type": "code",
   "execution_count": 71,
   "source": [
    "def print_gleichung(gleichung):\n",
    "    print(f\"{gleichung[0]}x^2+{gleichung[1]}x+{gleichung[2]}=0\")\n",
    "\n",
    "gleichung_2 = [3,5,7]\n",
    "print_gleichung(gleichung_2) #Zum Testen Ihrer Funktion"
   ],
   "outputs": [
    {
     "output_type": "stream",
     "name": "stdout",
     "text": [
      "3x^2+5x+7=0\n"
     ]
    }
   ],
   "metadata": {}
  },
  {
   "cell_type": "markdown",
   "source": [
    "Die Diskriminante $D=b^2-4ac$ einer quadratischen Gleichung $ax^2+bx+c=0$ gibt an, wie viele Lösungen die Gleichung hat.\r\n",
    "\r\n",
    "- Ist $D < 0$, hat die Gleichung keine Lösung\r\n",
    "- Ist $D = 0$, hat die Gleichung eine Lösung\r\n",
    "- Ist $D > 0$, hat die Gleichung zwei Lösungen\r\n",
    "\r\n",
    "**Aufgabe 3**: Schreiben Sie eine Funktion diskriminante(gleichung) welche eine Liste gleichung mit 3 Elementen als Argument bekommt und die Diskriminante der entsprechenden quadratischen Gleichung mit return zurückgibt.\r\n",
    "\r\n",
    "Hinweis: Eine Potenz kann in Python mit ** angeben werden."
   ],
   "metadata": {}
  },
  {
   "cell_type": "code",
   "execution_count": 72,
   "source": [
    "print(2**3)"
   ],
   "outputs": [
    {
     "output_type": "stream",
     "name": "stdout",
     "text": [
      "8\n"
     ]
    }
   ],
   "metadata": {}
  },
  {
   "cell_type": "code",
   "execution_count": 73,
   "source": [
    "def diskriminante(gleichung):\n",
    "    return # Hier kommt ihr Code hin\n",
    "\n",
    "gleichung_3 = [2,5,1]\n",
    "print(diskriminante(gleichung_3)) #Zum Testen Ihrer Funktion, das Resultat müsste 17 lauten"
   ],
   "outputs": [
    {
     "output_type": "stream",
     "name": "stdout",
     "text": [
      "None\n"
     ]
    }
   ],
   "metadata": {}
  },
  {
   "cell_type": "markdown",
   "source": [
    "**Lösung**"
   ],
   "metadata": {}
  },
  {
   "cell_type": "code",
   "execution_count": 74,
   "source": [
    "def diskriminante(gleichung):\n",
    "    return gleichung[1]**2-4*gleichung[0]*gleichung[2]\n",
    "\n",
    "gleichung_3 = [2,5,1]\n",
    "print(diskriminante(gleichung_3)) #Zum Testen Ihrer Funktion, das Resultat müsste 17 lauten"
   ],
   "outputs": [
    {
     "output_type": "stream",
     "name": "stdout",
     "text": [
      "17\n"
     ]
    }
   ],
   "metadata": {}
  },
  {
   "cell_type": "markdown",
   "source": [
    "**Aufgabe 4:** Schreiben Sie eine Funktion loesungsmenge(gleichung), welche eine Liste gleichung mit 3 Elementen als Argument bekommt und die Lösungsmenge der entsprechenden quadratischen Gleichung als Liste zurückgibt. Diese Liste hat entweder 0, 1 oder 2 Elemente.\r\n",
    "\r\n",
    "Zur Erinnerung:\r\n",
    "- Ist die Diskriminante $D < 0$, so ist die Lösungsmenge leer.\r\n",
    "- Ist $D=0$ hat die Lösungsmenge ein Element und zwar $-\\frac{b}{2a}$\r\n",
    "- Ist $D > 0$ hat die Lösungsmenge zwei Elemente und zwar $\\frac{-b\\pm\\sqrt{b^2-4ac}}{2a}$\r\n",
    "\r\n",
    "Tipps: \r\n",
    "- Benutzen Sie Ihre Funktion diskriminante.\r\n",
    "- Hier noch einmal ein Beispiel wie eine Selektion in Python funktioniert:\r\n"
   ],
   "metadata": {}
  },
  {
   "cell_type": "code",
   "execution_count": 75,
   "source": [
    "from random import randint\r\n",
    "wuerfelwurf = randint(1,6) #erzeugt eine natürliche Zufallszahl zwischen 1 und 6\r\n",
    "\r\n",
    "if wuerfelwurf == 1:\r\n",
    "    print(\"Du Pechvogel (eine 1 wurde gewürfelt)\")\r\n",
    "elif wuerfelwurf < 6:\r\n",
    "    print(\"Weder Glück noch Pech (eine Zahl zwischen 2 und 5 wurde gewürfelt)\")\r\n",
    "else:\r\n",
    "    print(\"Du Glückspilz (eine 6 wurde gewürfelt)\") "
   ],
   "outputs": [
    {
     "output_type": "stream",
     "name": "stdout",
     "text": [
      "Weder Glück noch Pech (eine Zahl zwischen 2 und 5 wurde gewürfelt)\n"
     ]
    }
   ],
   "metadata": {}
  },
  {
   "cell_type": "code",
   "execution_count": 76,
   "source": [
    "from math import sqrt #Importiert aus dem Modul math die Wurzelfunktion sqrt\r\n",
    "\r\n",
    "def loesungsmenge(gleichung):\r\n",
    "    # Hier kommt ihr Code hin\r\n",
    "    return\r\n",
    "\r\n",
    "testgleichung1 = [2,-15,18]\r\n",
    "testgleichung2 = [5,-8,4]\r\n",
    "testgleichung3 = [-1,70,-1225]\r\n",
    "print(loesungsmenge(testgleichung1)) #Zum Testen Ihrer Funktion, das Resultat müsste [1.5,6.0] lauten\r\n",
    "print(loesungsmenge(testgleichung2)) #Zum Testen Ihrer Funktion, das Resultat müsste [] lauten\r\n",
    "print(loesungsmenge(testgleichung3)) #Zum Testen Ihrer Funktion, das Resultat müsste [35.0] lauten"
   ],
   "outputs": [
    {
     "output_type": "stream",
     "name": "stdout",
     "text": [
      "None\n",
      "None\n",
      "None\n"
     ]
    }
   ],
   "metadata": {}
  },
  {
   "cell_type": "markdown",
   "source": [
    "**Lösung**"
   ],
   "metadata": {}
  },
  {
   "cell_type": "code",
   "execution_count": 83,
   "source": [
    "from math import sqrt #Importiert aus dem Modul math die Wurzelfunktion sqrt\n",
    "\n",
    "def loesungsmenge(gleichung):\n",
    "    if diskriminante(gleichung) < 0:\n",
    "        return []\n",
    "    elif diskriminante(gleichung) == 0:\n",
    "        return [-gleichung[1]/(2*gleichung[0])]\n",
    "    else:\n",
    "        return [(-gleichung[1]-sqrt(diskriminante(gleichung)))/(2*gleichung[0]), (-gleichung[1]+sqrt(diskriminante(gleichung)))/(2*gleichung[0])]\n",
    "\n",
    "testgleichung1 = [2,-15,18]\n",
    "testgleichung2 = [5,-8,4]\n",
    "testgleichung3 = [-1,70,-1225]\n",
    "print(loesungsmenge(testgleichung1)) #Zum Testen Ihrer Funktion, das Resultat müsste [1.5,6.0] lauten\n",
    "print(loesungsmenge(testgleichung2)) #Zum Testen Ihrer Funktion, das Resultat müsste [] lauten\n",
    "print(loesungsmenge(testgleichung3)) #Zum Testen Ihrer Funktion, das Resultat müsste [35.0] lauten"
   ],
   "outputs": [
    {
     "output_type": "stream",
     "name": "stdout",
     "text": [
      "[1.5, 6.0]\n",
      "[]\n",
      "[35.0]\n"
     ]
    }
   ],
   "metadata": {}
  },
  {
   "cell_type": "markdown",
   "source": [
    "**Aufgabe 5:** Fassen Sie nun alles zusammen:"
   ],
   "metadata": {}
  },
  {
   "cell_type": "code",
   "execution_count": 78,
   "source": [
    "gleichung = [2,-7,3]\n",
    "\n",
    "#Geben Sie hier die Gleichung schön aus (benutzen Sie Ihre Funktion).\n",
    "#Geben Sie hier die Diskriminaten aus (benutzen Sie Ihre Funktion).\n",
    "#Geben Sie hier die Lösungsmenge aus (benutzen Sie Ihre Funktion)."
   ],
   "outputs": [],
   "metadata": {}
  },
  {
   "cell_type": "markdown",
   "source": [
    "**Lösung**"
   ],
   "metadata": {}
  },
  {
   "cell_type": "code",
   "execution_count": 79,
   "source": [
    "gleichung = [2,-7,3]\n",
    "\n",
    "print_gleichung(gleichung)\n",
    "print(diskriminante(gleichung))\n",
    "print(loesungsmenge(gleichung))"
   ],
   "outputs": [
    {
     "output_type": "stream",
     "name": "stdout",
     "text": [
      "2x^2+-7x+3=0\n",
      "25\n",
      "[0.5, 3.0]\n"
     ]
    }
   ],
   "metadata": {}
  },
  {
   "cell_type": "markdown",
   "source": [
    "**Zusatzaufgabe 1:** Leider werden Gleichungen mit negativen Koeffizienten mit der Funktion print_gleichung nicht schön dargestellt (z.B. 2x^2+-7x+3=0). Passen Sie die Funktion entsprechend an.\r\n",
    "\r\n",
    "Auch Gleichungen mit 0 als Koeffizient werden nicht schön angezeigt, passen Sie Ihre Funktion auch diesbezüglich an."
   ],
   "metadata": {}
  },
  {
   "cell_type": "markdown",
   "source": [
    "**Zusatzaufgabe 2:** Ist a=0 (d.h. die Gleichung ist linear) wird ein ZeroDivisionError erzeugt. Passen Sie Ihre Funktion loesungsmenge so an, dass sie auch lineare Funktionen lösen kann."
   ],
   "metadata": {}
  }
 ],
 "metadata": {
  "interpreter": {
   "hash": "376ad00caeeda2e89a853b787facd915c562d32f8b00928fdeca4d45064eb626"
  },
  "kernelspec": {
   "name": "python3",
   "display_name": "Python 3.9.4 64-bit ('py39': conda)"
  },
  "language_info": {
   "codemirror_mode": {
    "name": "ipython",
    "version": 3
   },
   "file_extension": ".py",
   "mimetype": "text/x-python",
   "name": "python",
   "nbconvert_exporter": "python",
   "pygments_lexer": "ipython3",
   "version": "3.9.4"
  },
  "orig_nbformat": 4
 },
 "nbformat": 4,
 "nbformat_minor": 2
}