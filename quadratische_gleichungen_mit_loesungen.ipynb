{
 "cells": [
  {
   "cell_type": "markdown",
   "metadata": {},
   "source": [
    "## Quadratische Gleichungen mit Python\n",
    "\n",
    "In diesem Notebook wollen wir mit Hife von Python quadratische Gleichungen lösen. Zuerst beschäftigen wir uns aber mit f-Strings."
   ]
  },
  {
   "cell_type": "markdown",
   "metadata": {},
   "source": [
    "### f-Strings\n",
    "\n",
    "f-Strings werden zum Formatieren von Strings verwendet. Ein f-String besteht aus dem Buchstaben f bzw. F und einem String in einfache, doppelten oder dreifachen Anführungszeichen."
   ]
  },
  {
   "cell_type": "code",
   "execution_count": 2,
   "metadata": {},
   "outputs": [
    {
     "name": "stdout",
     "output_type": "stream",
     "text": [
      "<class 'str'>\n",
      "hallo\n"
     ]
    }
   ],
   "source": [
    "x=f\"hallo\"\n",
    "\n",
    "print(type(x))\n",
    "print(x)"
   ]
  },
  {
   "cell_type": "markdown",
   "metadata": {},
   "source": [
    "Der Vorteil von f-Strings ist, dass in geschweiften Klammern ({}) Python-Ausdrücke geschrieben werden können, welche zur Ausführzeit augewertet werden."
   ]
  },
  {
   "cell_type": "markdown",
   "metadata": {},
   "source": [
    "**Beispiel:**"
   ]
  },
  {
   "cell_type": "code",
   "execution_count": 3,
   "metadata": {},
   "outputs": [
    {
     "name": "stdout",
     "output_type": "stream",
     "text": [
      "Sind in einem rechtwinkligen Dreieck die Katheten a = 3 cm und b = 4 cm lang, so ist die Hypotenuse c = 5.0 cm lang.\n"
     ]
    }
   ],
   "source": [
    "from math import sqrt #Importiert aus dem Modul math die Wurzelfunktion sqrt\n",
    "a = 3\n",
    "b = 4\n",
    "\n",
    "print(f'Sind in einem rechtwinkligen Dreieck die Katheten a = {a} cm und b = {b} cm lang, so ist die Hypotenuse c = {sqrt(a**2+b**2)} cm lang.')\n"
   ]
  },
  {
   "cell_type": "markdown",
   "metadata": {},
   "source": [
    "**Beispiel:**"
   ]
  },
  {
   "cell_type": "code",
   "execution_count": 4,
   "metadata": {},
   "outputs": [
    {
     "name": "stdout",
     "output_type": "stream",
     "text": [
      "Dein Name lautet Hans.\n"
     ]
    }
   ],
   "source": [
    "name = input(\"Wie lautet dein Name\")\n",
    "print(f\"Dein Name lautet {name}.\")"
   ]
  },
  {
   "cell_type": "markdown",
   "metadata": {},
   "source": [
    "**Aufgabe 1:** Schreiben Sie mit Hilfe eines f-Strings ein kleines Programm mit zwei Variablen x und y, denen Sie Werte zuweisen, und einer Ausgabe der Form \"Das Produkt von x und y ist 45.\""
   ]
  },
  {
   "cell_type": "code",
   "execution_count": 5,
   "metadata": {},
   "outputs": [],
   "source": [
    "#Hier kommt ihr Programm hin"
   ]
  },
  {
   "cell_type": "markdown",
   "metadata": {},
   "source": [
    "### Quadratische Gleichungen\n",
    "\n",
    "Wir wollen eine Funktion schreiben, welche quadratische Gleichungen der Form $ax^2+bx+c=0$ löst. Dabei soll diese Funktion die Lösungen als Liste ausgeben. Hat die Gleichung keine Lösung, so soll die Liste leer sein.\n",
    "\n",
    "Eine quadratische Gleichung speichern wir dabei ebenfalls in einer Liste, wobei wir die Koeffizienten als Elemente der Liste abspeichern. Die quadratische Gleichng $2x^2+5x-1=0$ soll zum Beispiel als Liste $[2,5,-1]$ gespeichert werden.\n",
    "\n",
    "**Beispiel:**"
   ]
  },
  {
   "cell_type": "code",
   "execution_count": 6,
   "metadata": {},
   "outputs": [
    {
     "name": "stdout",
     "output_type": "stream",
     "text": [
      "2x^2+5x-1=0\n"
     ]
    }
   ],
   "source": [
    "gleichung_1 = [2,5,-1]\n",
    "\n",
    "print(str(gleichung_1[0])+\"x^2+\"+str(gleichung_1[1])+\"x\"+str(gleichung_1[2])+\"=0\")"
   ]
  },
  {
   "cell_type": "markdown",
   "metadata": {},
   "source": [
    "**Zur Erinnerung:** In Python kann auf Elemente einer Liste mit eckigen Klammern zugegriffen werden. Dabei wird immer mit 0 zu zählen begonnen."
   ]
  },
  {
   "cell_type": "code",
   "execution_count": 7,
   "metadata": {},
   "outputs": [
    {
     "name": "stdout",
     "output_type": "stream",
     "text": [
      "Hund\n",
      "Papagei\n"
     ]
    }
   ],
   "source": [
    "tiere = [\"Hund\", \"Katze\", \"Papagei\", \"Krokodil\", \"Hase\", \"Ameise\", \"Einhorn\"]\n",
    "print(tiere[0])\n",
    "print(tiere[2])\n"
   ]
  },
  {
   "cell_type": "markdown",
   "metadata": {},
   "source": [
    "**Zur Erinnerung**: So werden Funktionen in Python umgesetzt:"
   ]
  },
  {
   "cell_type": "code",
   "execution_count": 8,
   "metadata": {},
   "outputs": [
    {
     "name": "stdout",
     "output_type": "stream",
     "text": [
      "25\n"
     ]
    }
   ],
   "source": [
    "def quadrat(zahl):\n",
    "    \"\"\"Funktion, welche das Quadrat einer Zahl berechnet\"\"\"\n",
    "    return zahl**2\n",
    "\n",
    "resultat = quadrat(5) #Funktionsaufruf\n",
    "print(resultat)"
   ]
  },
  {
   "cell_type": "markdown",
   "metadata": {},
   "source": [
    "**Aufgabe 2:** Die Ausgabe der quadratischen Gleichung im obigen Beispiel ist sehr umständlich geschrieben. Schreiben Sie eine Funktion print_gleichung(gleichung), welche eine Liste gleichung mit 3 Elementen als Argument bekommt und die entsprechende Gleichung mit Hilfe eines f-Strings ausgibt.\n",
    "\n",
    "Zum Beispiel müsste print_gleichung$([3,5,7])$ die Ausgabe 3x^2+5x+7=0 erzeugen."
   ]
  },
  {
   "cell_type": "code",
   "execution_count": 9,
   "metadata": {},
   "outputs": [],
   "source": [
    "def print_gleichung(gleichung):\n",
    "    #Hier kommt ihr Code hin\n",
    "    pass #Dies ist eine Nichtoperation, bei Ausführen passiert nichts\n",
    "\n",
    "gleichung_2 = [3,5,7]\n",
    "print_gleichung(gleichung_2) #Zum Testen Ihrer Funktion"
   ]
  },
  {
   "cell_type": "markdown",
   "metadata": {},
   "source": [
    "**Lösung**"
   ]
  },
  {
   "cell_type": "code",
   "execution_count": 10,
   "metadata": {},
   "outputs": [
    {
     "name": "stdout",
     "output_type": "stream",
     "text": [
      "3x^2+5x+7=0\n"
     ]
    }
   ],
   "source": [
    "def print_gleichung(gleichung):\n",
    "    print(f\"{gleichung[0]}x^2+{gleichung[1]}x+{gleichung[2]}=0\")\n",
    "\n",
    "gleichung_2 = [3,5,7]\n",
    "print_gleichung(gleichung_2) #Zum Testen Ihrer Funktion"
   ]
  },
  {
   "cell_type": "markdown",
   "metadata": {},
   "source": [
    "Die Diskriminante $D=b^2-4ac$ einer quadratischen Gleichung $ax^2+bx+c=0$ gibt an, wie viele Lösungen die Gleichung hat.\n",
    "\n",
    "- Ist $D < 0$, hat die Gleichung keine Lösung\n",
    "- Ist $D = 0$, hat die Gleichung eine Lösung\n",
    "- Ist $D > 0$, hat die Gleichung zwei Lösungen\n",
    "\n",
    "**Aufgabe 3**: Schreiben Sie eine Funktion diskriminante(gleichung) welche eine Liste gleichung mit 3 Elementen als Argument bekommt und die Diskriminante der entsprechenden quadratischen Gleichung mit return zurückgibt.\n",
    "\n",
    "Hinweis: Eine Potenz kann in Python mit ** angeben werden."
   ]
  },
  {
   "cell_type": "code",
   "execution_count": 11,
   "metadata": {},
   "outputs": [
    {
     "name": "stdout",
     "output_type": "stream",
     "text": [
      "8\n"
     ]
    }
   ],
   "source": [
    "print(2**3)"
   ]
  },
  {
   "cell_type": "code",
   "execution_count": 12,
   "metadata": {},
   "outputs": [
    {
     "name": "stdout",
     "output_type": "stream",
     "text": [
      "None\n"
     ]
    }
   ],
   "source": [
    "def diskriminante(gleichung):\n",
    "    return # Hier kommt ihr Code hin\n",
    "\n",
    "gleichung_3 = [2,5,1]\n",
    "print(diskriminante(gleichung_3)) #Zum Testen Ihrer Funktion, das Resultat müsste 17 lauten"
   ]
  },
  {
   "cell_type": "markdown",
   "metadata": {},
   "source": [
    "**Lösung**"
   ]
  },
  {
   "cell_type": "code",
   "execution_count": 13,
   "metadata": {},
   "outputs": [
    {
     "name": "stdout",
     "output_type": "stream",
     "text": [
      "17\n"
     ]
    }
   ],
   "source": [
    "def diskriminante(gleichung):\n",
    "    return gleichung[1]**2-4*gleichung[0]*gleichung[2]\n",
    "\n",
    "gleichung_3 = [2,5,1]\n",
    "print(diskriminante(gleichung_3)) #Zum Testen Ihrer Funktion, das Resultat müsste 17 lauten"
   ]
  },
  {
   "cell_type": "markdown",
   "metadata": {},
   "source": [
    "**Aufgabe 4:** Schreiben Sie eine Funktion loesungsmenge(gleichung), welche eine Liste gleichung mit 3 Elementen als Argument bekommt und die Lösungsmenge der entsprechenden quadratischen Gleichung als Liste zurückgibt. Diese Liste hat entweder 0, 1 oder 2 Elemente.\n",
    "\n",
    "Zur Erinnerung:\n",
    "- Ist die Diskriminante $D < 0$, so ist die Lösungsmenge leer.\n",
    "- Ist $D=0$ hat die Lösungsmenge ein Element und zwar $-\\frac{b}{2a}$\n",
    "- Ist $D > 0$ hat die Lösungsmenge zwei Elemente und zwar $\\frac{-b\\pm\\sqrt{b^2-4ac}}{2a}$\n",
    "\n",
    "Tipps: \n",
    "- Benutzen Sie Ihre Funktion diskriminante.\n",
    "- Hier noch einmal ein Beispiel wie eine Selektion in Python funktioniert:\n"
   ]
  },
  {
   "cell_type": "code",
   "execution_count": 14,
   "metadata": {},
   "outputs": [
    {
     "name": "stdout",
     "output_type": "stream",
     "text": [
      "Weder Glück noch Pech (eine Zahl zwischen 2 und 5 wurde gewürfelt)\n"
     ]
    }
   ],
   "source": [
    "from random import randint\n",
    "wuerfelwurf = randint(1,6) #erzeugt eine natürliche Zufallszahl zwischen 1 und 6\n",
    "\n",
    "if wuerfelwurf == 1:\n",
    "    print(\"Du Pechvogel (eine 1 wurde gewürfelt)\")\n",
    "elif wuerfelwurf < 6:\n",
    "    print(\"Weder Glück noch Pech (eine Zahl zwischen 2 und 5 wurde gewürfelt)\")\n",
    "else:\n",
    "    print(\"Du Glückspilz (eine 6 wurde gewürfelt)\") "
   ]
  },
  {
   "cell_type": "code",
   "execution_count": 15,
   "metadata": {},
   "outputs": [
    {
     "name": "stdout",
     "output_type": "stream",
     "text": [
      "None\n",
      "None\n",
      "None\n"
     ]
    }
   ],
   "source": [
    "from math import sqrt #Importiert aus dem Modul math die Wurzelfunktion sqrt\n",
    "\n",
    "def loesungsmenge(gleichung):\n",
    "    # Hier kommt ihr Code hin\n",
    "    return\n",
    "\n",
    "testgleichung1 = [2,-15,18]\n",
    "testgleichung2 = [5,-8,4]\n",
    "testgleichung3 = [-1,70,-1225]\n",
    "print(loesungsmenge(testgleichung1)) #Zum Testen Ihrer Funktion, das Resultat müsste [1.5,6.0] lauten\n",
    "print(loesungsmenge(testgleichung2)) #Zum Testen Ihrer Funktion, das Resultat müsste [] lauten\n",
    "print(loesungsmenge(testgleichung3)) #Zum Testen Ihrer Funktion, das Resultat müsste [35.0] lauten"
   ]
  },
  {
   "cell_type": "markdown",
   "metadata": {},
   "source": [
    "**Lösung**"
   ]
  },
  {
   "cell_type": "code",
   "execution_count": 16,
   "metadata": {},
   "outputs": [
    {
     "name": "stdout",
     "output_type": "stream",
     "text": [
      "[1.5, 6.0]\n",
      "[]\n",
      "[35.0]\n"
     ]
    }
   ],
   "source": [
    "from math import sqrt #Importiert aus dem Modul math die Wurzelfunktion sqrt\n",
    "\n",
    "def loesungsmenge(gleichung):\n",
    "    if diskriminante(gleichung) < 0:\n",
    "        return []\n",
    "    elif diskriminante(gleichung) == 0:\n",
    "        return [-gleichung[1]/(2*gleichung[0])]\n",
    "    else:\n",
    "        return [(-gleichung[1]-sqrt(diskriminante(gleichung)))/(2*gleichung[0]), (-gleichung[1]+sqrt(diskriminante(gleichung)))/(2*gleichung[0])]\n",
    "\n",
    "testgleichung1 = [2,-15,18]\n",
    "testgleichung2 = [5,-8,4]\n",
    "testgleichung3 = [-1,70,-1225]\n",
    "print(loesungsmenge(testgleichung1)) #Zum Testen Ihrer Funktion, das Resultat müsste [1.5,6.0] lauten\n",
    "print(loesungsmenge(testgleichung2)) #Zum Testen Ihrer Funktion, das Resultat müsste [] lauten\n",
    "print(loesungsmenge(testgleichung3)) #Zum Testen Ihrer Funktion, das Resultat müsste [35.0] lauten"
   ]
  },
  {
   "cell_type": "markdown",
   "metadata": {},
   "source": [
    "**Aufgabe 5:** Fassen Sie nun alles zusammen:"
   ]
  },
  {
   "cell_type": "code",
   "execution_count": 17,
   "metadata": {},
   "outputs": [],
   "source": [
    "gleichung = [2,-7,3]\n",
    "\n",
    "#Geben Sie hier die Gleichung schön aus (benutzen Sie Ihre Funktion).\n",
    "#Geben Sie hier die Diskriminaten aus (benutzen Sie Ihre Funktion).\n",
    "#Geben Sie hier die Lösungsmenge aus (benutzen Sie Ihre Funktion)."
   ]
  },
  {
   "cell_type": "markdown",
   "metadata": {},
   "source": [
    "**Lösung**"
   ]
  },
  {
   "cell_type": "code",
   "execution_count": 18,
   "metadata": {},
   "outputs": [
    {
     "name": "stdout",
     "output_type": "stream",
     "text": [
      "2x^2+-7x+3=0\n",
      "25\n",
      "[0.5, 3.0]\n"
     ]
    }
   ],
   "source": [
    "gleichung = [2,-7,3]\n",
    "\n",
    "print_gleichung(gleichung)\n",
    "print(diskriminante(gleichung))\n",
    "print(loesungsmenge(gleichung))"
   ]
  },
  {
   "cell_type": "markdown",
   "metadata": {},
   "source": [
    "**Zusatzaufgabe 1:** Leider werden Gleichungen mit negativen Koeffizienten mit der Funktion print_gleichung nicht schön dargestellt (z.B. 2x^2+-7x+3=0). Passen Sie die Funktion entsprechend an.\n",
    "\n",
    "Auch Gleichungen mit 0 als Koeffizient werden nicht schön angezeigt, passen Sie Ihre Funktion auch diesbezüglich an."
   ]
  },
  {
   "cell_type": "markdown",
   "metadata": {},
   "source": [
    "**Zusatzaufgabe 2:** Ist a=0 (d.h. die Gleichung ist linear) wird ein ZeroDivisionError erzeugt. Passen Sie Ihre Funktion loesungsmenge so an, dass sie auch lineare Funktionen lösen kann."
   ]
  }
 ],
 "metadata": {
  "kernelspec": {
   "display_name": "Python 3.8.11 ('base')",
   "language": "python",
   "name": "python3"
  },
  "language_info": {
   "codemirror_mode": {
    "name": "ipython",
    "version": 3
   },
   "file_extension": ".py",
   "mimetype": "text/x-python",
   "name": "python",
   "nbconvert_exporter": "python",
   "pygments_lexer": "ipython3",
   "version": "3.8.11"
  },
  "orig_nbformat": 4,
  "vscode": {
   "interpreter": {
    "hash": "06857816d295f49859cc9b744cb5307f357aa28072ae1f3fa176dda7f6176408"
   }
  }
 },
 "nbformat": 4,
 "nbformat_minor": 2
}
