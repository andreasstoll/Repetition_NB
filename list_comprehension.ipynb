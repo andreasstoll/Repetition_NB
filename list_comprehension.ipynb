{
 "cells": [
  {
   "cell_type": "markdown",
   "metadata": {},
   "source": [
    "## List comprehension\n",
    "\n",
    "### Schleifen: Repetition\n",
    "\n",
    "Wollen wir Dinge wiederholen, können wir dies u.a. mit Schleifen erreichen.\n",
    "\n",
    "**Beispiel:**"
   ]
  },
  {
   "cell_type": "code",
   "execution_count": 4,
   "metadata": {},
   "outputs": [
    {
     "name": "stdout",
     "output_type": "stream",
     "text": [
      "1. Stadt: Olten\n",
      "2. Stadt: Basel\n",
      "3. Stadt: Zürich\n",
      "4. Stadt: Lausanne\n",
      "5. Stadt: Lugano\n",
      "6. Stadt: Bern\n"
     ]
    }
   ],
   "source": [
    "staedte = [\"Olten\", \"Basel\", \"Zürich\", \"Lausanne\", \"Lugano\", \"Bern\"]\n",
    "\n",
    "print(f\"1. Stadt: {staedte[0]}\")\n",
    "print(f\"2. Stadt: {staedte[1]}\")\n",
    "print(f\"3. Stadt: {staedte[2]}\")\n",
    "print(f\"4. Stadt: {staedte[3]}\")\n",
    "print(f\"5. Stadt: {staedte[4]}\")\n",
    "print(f\"6. Stadt: {staedte[5]}\")"
   ]
  },
  {
   "cell_type": "markdown",
   "metadata": {},
   "source": [
    "**Aufgabe 1:** Schreiben Sie den Code eleganter mit einer Schleife. \n",
    "\n",
    "Gehen Sie dabei folgendermassen vor:\n",
    "- Finden Sie ein Muster\n",
    "- Finden Sie Unterschiede\n",
    "- Parametrisieren Sie\n",
    "- Vereinigen Sie"
   ]
  },
  {
   "cell_type": "code",
   "execution_count": 8,
   "metadata": {},
   "outputs": [
    {
     "name": "stdout",
     "output_type": "stream",
     "text": [
      "Olten\n",
      "Basel\n",
      "Zürich\n",
      "Lausanne\n",
      "Lugano\n",
      "Bern\n"
     ]
    }
   ],
   "source": [
    "for i in range(6):\n",
    "    print(staedte[i])"
   ]
  },
  {
   "cell_type": "code",
   "execution_count": 11,
   "metadata": {},
   "outputs": [
    {
     "name": "stdout",
     "output_type": "stream",
     "text": [
      "Olten\n",
      "Basel\n",
      "Zürich\n",
      "Lausanne\n",
      "Lugano\n",
      "Bern\n"
     ]
    }
   ],
   "source": [
    "for x in staedte:\n",
    "    print(x)"
   ]
  },
  {
   "cell_type": "markdown",
   "metadata": {},
   "source": [
    "**Aufgabe 2:** Falls Sie die obige Aufgabe mit einer while-Schleife gelöst haben, so lösen Sie sie nun mit einer for-Schleife und umgekehrt."
   ]
  },
  {
   "cell_type": "code",
   "execution_count": 9,
   "metadata": {},
   "outputs": [
    {
     "name": "stdout",
     "output_type": "stream",
     "text": [
      "Olten\n",
      "Basel\n",
      "Zürich\n",
      "Lausanne\n",
      "Lugano\n",
      "Bern\n"
     ]
    }
   ],
   "source": [
    "i=0\n",
    "while i < 6:\n",
    "    print(staedte[i])\n",
    "    i=i+1"
   ]
  },
  {
   "cell_type": "markdown",
   "metadata": {},
   "source": [
    "### List comprehension"
   ]
  },
  {
   "cell_type": "markdown",
   "metadata": {},
   "source": [
    "**Beispiel:** Wir wollen eine Liste aller Dreierzahlen von 3 bis 30 erstellen."
   ]
  },
  {
   "cell_type": "code",
   "execution_count": 4,
   "metadata": {},
   "outputs": [
    {
     "name": "stdout",
     "output_type": "stream",
     "text": [
      "[3, 6, 8, 12, 15, 18, 21, 24, 27, 30]\n"
     ]
    }
   ],
   "source": [
    "dreierliste = [3,6,8,12,15,18,21,24,27,30]\n",
    "\n",
    "print(dreierliste)"
   ]
  },
  {
   "cell_type": "markdown",
   "metadata": {},
   "source": [
    "Es ist etwas gar umständliche alle Dreierzahlen zwischen 3 und 30 einzutippen. Auch diesen Code könnte man mit einer Schleife eleganter schreiben:"
   ]
  },
  {
   "cell_type": "code",
   "execution_count": 5,
   "metadata": {},
   "outputs": [
    {
     "name": "stdout",
     "output_type": "stream",
     "text": [
      "[3, 6, 9, 12, 15, 18, 21, 24, 27, 30]\n"
     ]
    }
   ],
   "source": [
    "dreierliste_for = []\n",
    "\n",
    "for x in range(1,11):\n",
    "    dreierliste_for.append(3*x)\n",
    "\n",
    "print(dreierliste_for)"
   ]
  },
  {
   "cell_type": "markdown",
   "metadata": {},
   "source": [
    "**Zusatzaufgabe 1:** Erzeugen Sie die obige Liste mit Hilfe einer while-Schleife."
   ]
  },
  {
   "cell_type": "code",
   "execution_count": null,
   "metadata": {},
   "outputs": [],
   "source": [
    "#Hier kommt ihr Code hin"
   ]
  },
  {
   "cell_type": "markdown",
   "metadata": {},
   "source": []
  },
  {
   "cell_type": "markdown",
   "metadata": {},
   "source": [
    "**Aufgabe 3:** Erstellen Sie eine Liste alles **ungeraden** Zahlen zwischen 3 und 777 (inklusive 3 und 777) mit Hilfe einer Schleife."
   ]
  },
  {
   "cell_type": "code",
   "execution_count": 6,
   "metadata": {},
   "outputs": [],
   "source": [
    "#Hier kommt ihr Code hin"
   ]
  },
  {
   "cell_type": "markdown",
   "metadata": {},
   "source": [
    "Auch die Variante die Liste aller Dreierzahlen zwischen 3 und 30 mit einer for-Schleife zu erstellen, scheint eher umständlich zu sein.\n",
    "\n",
    "In der Mathematik könnte man diese Liste als Menge folgendermassen darstellen $\\{3x\\ |\\ 1 \\leq x \\leq 10\\}$, was deutlich schneller geht.\n",
    "\n",
    "Eine ganz ähnliche Notation funktioniert auch in Python und zwar mit Hilfe einer **List Comprehension** (Listen-Abstraktion):\n"
   ]
  },
  {
   "cell_type": "code",
   "execution_count": 1,
   "metadata": {},
   "outputs": [
    {
     "name": "stdout",
     "output_type": "stream",
     "text": [
      "[3, 6, 9, 12, 15, 18, 21, 24, 27, 30]\n"
     ]
    }
   ],
   "source": [
    "dreierliste_lc = [3*x for x in range(1,11)]\n",
    "\n",
    "print(dreierliste_lc)"
   ]
  },
  {
   "cell_type": "markdown",
   "metadata": {},
   "source": [
    "Dabei wird die folgende Syntax verwendet:\n",
    "\n",
    "Liste = $[$ Ausdruck for Element in andere Liste $]$\n",
    "\n",
    "In unserem Beispiel ist die Liste dreierliste_lc, der Ausdruck $3*x$, das Element x und die andere Liste range(1,11) = $[$ 1,2,…,10 $]$.\n",
    "\n",
    "Eine List Compehension entspricht also einer for-Schleife, welche eine Liste erzeigt. Die Syntax ist dabei sehr ähnlich wie die in der Mathematik. \n",
    "\n",
    "List Comprehensions können auch mit if-Bedingungen kombiniert werden.\n",
    "So liefert \n"
   ]
  },
  {
   "cell_type": "code",
   "execution_count": 9,
   "metadata": {},
   "outputs": [
    {
     "name": "stdout",
     "output_type": "stream",
     "text": [
      "[6, 12, 18, 24, 30]\n"
     ]
    }
   ],
   "source": [
    "dreierliste_gerade_lc = [3*x for x in range(1,11) if x%2==0]\n",
    "\n",
    "print(dreierliste_gerade_lc)"
   ]
  },
  {
   "cell_type": "markdown",
   "metadata": {},
   "source": [
    "nur die Geraden Dreierzahlen zwischen 3 und 30. Die Syntax ist die folgende:\n",
    "\n",
    "Liste = $[$ Ausdruck for Element in andere Liste if Bedingung $]$\n",
    "\n",
    "List Comprehensions funktionieren nicht nur mit Zahlen (beachten Sie, dass ein String in Python eine Liste von Zeichen ist):\n"
   ]
  },
  {
   "cell_type": "code",
   "execution_count": 10,
   "metadata": {},
   "outputs": [
    {
     "name": "stdout",
     "output_type": "stream",
     "text": [
      "['h', 'a', 'l', 'l', 'o']\n"
     ]
    }
   ],
   "source": [
    "li = [b for b in \"hallo\"]\n",
    "print(li)"
   ]
  },
  {
   "cell_type": "markdown",
   "metadata": {},
   "source": [
    "Auch hier kann mit einer if-Bedingung kombiniert werden:"
   ]
  },
  {
   "cell_type": "code",
   "execution_count": 11,
   "metadata": {},
   "outputs": [
    {
     "name": "stdout",
     "output_type": "stream",
     "text": [
      "['a', 'o']\n"
     ]
    }
   ],
   "source": [
    "li = [b for b in \"hallo\" if b in \"aeiou\"]\n",
    "\n",
    "print(li)"
   ]
  },
  {
   "cell_type": "markdown",
   "metadata": {},
   "source": [
    "**Aufgabe 4:** Erstellen Sie eine Liste aller Fünferzahlen zwischen 5 und 535 mit Hilfe einer List Comprehension und mit Hilfe einer \"normalen\" for-Schleife."
   ]
  },
  {
   "cell_type": "code",
   "execution_count": null,
   "metadata": {},
   "outputs": [],
   "source": [
    "#Hier kommt Ihr Code hin (Lösung mit List Comprehension)"
   ]
  },
  {
   "cell_type": "code",
   "execution_count": null,
   "metadata": {},
   "outputs": [],
   "source": [
    "#Hier kommt Ihr Code hin (Lösung mit for-Schleife)"
   ]
  },
  {
   "cell_type": "markdown",
   "metadata": {},
   "source": [
    "**Beispiel:** Wie gross ist die Wahrscheinlichkeit mit zwei Würfeln eine Augensumme von 7 zu würfeln?\n",
    "Mit dem ersten Würfel können 6 verschiedene Zahlen gewürfelt werden, mit dem zweiten ebenfalls, somit gibt es insgesamt $6  \\cdot 6 = 36$ mögliche Würfelwürfe von zwei Würfeln.\n",
    "\n",
    "Nun können wir uns überlegen wie viele davon eine Augensumme von 7 aufweisen:\n",
    "- (1,6): Der erste Würfel ist eine 1, der zweite eine 6\n",
    "- (2,5)\n",
    "- (3,4)\n",
    "- (4,3)\n",
    "- (5,2)\n",
    "- (6,1)\n",
    "\n",
    "Durch Aufzählen, sehen wir also, dass insgesamt 6 von den 36 Würfen von zwei Würfeln eine Augensumme 7 ergeben. \n",
    "Die Wahrscheinlichkeit, eine Augensumme von 7 zu erhalten bei zwei Würfen beträgt also \n",
    "$\\frac{6}{36}= \\frac{1}{6}$.\n",
    "\n",
    "Wir hätten aber auch TigerJython die Arbeit machen lassen können. Mit \n",
    "\n"
   ]
  },
  {
   "cell_type": "code",
   "execution_count": 2,
   "metadata": {},
   "outputs": [],
   "source": [
    "siebner = [(x,y) for x in range(1,7) for y in range(1,7) if x+y==7]"
   ]
  },
  {
   "cell_type": "markdown",
   "metadata": {},
   "source": [
    "können wir alle Zahlenpaare mit einer Summe von 7 erzeugen lassen. Mit "
   ]
  },
  {
   "cell_type": "code",
   "execution_count": 3,
   "metadata": {},
   "outputs": [],
   "source": [
    "total = [(x,y) for x in range(1,7) for y in range(1,7)]"
   ]
  },
  {
   "cell_type": "markdown",
   "metadata": {},
   "source": [
    "können wir alle möglichen Würfelwürfe ausgeben. Somit liefert die folgende Ausgabe die Wahrscheinlichkeit, dass die Augensumme von zwei Würfeln 7 beträgt:\n"
   ]
  },
  {
   "cell_type": "code",
   "execution_count": 4,
   "metadata": {},
   "outputs": [
    {
     "name": "stdout",
     "output_type": "stream",
     "text": [
      "0.16666666666666666\n"
     ]
    }
   ],
   "source": [
    "print(len(siebner)/len(total))"
   ]
  },
  {
   "cell_type": "markdown",
   "metadata": {},
   "source": [
    "Diese Ausgabe stimmt mit unseren obigen Überlegungen überein."
   ]
  },
  {
   "cell_type": "markdown",
   "metadata": {},
   "source": [
    "**Aufgabe 5:** \n",
    "- Berechnen Sie mit Hilfe von List Comprehension:\n",
    "Wie gross ist die Wahrscheinlichkeit mit 2 Würfeln eine Augensumme von 6 zu erhalten?"
   ]
  },
  {
   "cell_type": "code",
   "execution_count": null,
   "metadata": {},
   "outputs": [],
   "source": [
    "#Hier kommt Ihr Code hin"
   ]
  },
  {
   "cell_type": "markdown",
   "metadata": {},
   "source": [
    "- Berechnen Sie mit Hilfe von List Comprehension:\n",
    "Wie gross ist die Wahrscheinlichkeit mit 3 Würfeln eine Augensumme von 6 zu erhalten?"
   ]
  },
  {
   "cell_type": "markdown",
   "metadata": {},
   "source": [
    "**Zusatzaufgabe:** Erstellen Sie mit Hilfe von List Comprehension eine Liste aller Geraden Zahlen zwischen 2 und 98, welche NICHT durch 4 teilbar sind.\n",
    "Tipp: Arbeiten Sie mit Divisionsrest bei Divison durch 4 (% 4)."
   ]
  },
  {
   "cell_type": "code",
   "execution_count": null,
   "metadata": {},
   "outputs": [],
   "source": [
    "#Hier kommt Ihr Code hin"
   ]
  }
 ],
 "metadata": {
  "kernelspec": {
   "display_name": "Python 3.8.11 ('base')",
   "language": "python",
   "name": "python3"
  },
  "language_info": {
   "codemirror_mode": {
    "name": "ipython",
    "version": 3
   },
   "file_extension": ".py",
   "mimetype": "text/x-python",
   "name": "python",
   "nbconvert_exporter": "python",
   "pygments_lexer": "ipython3",
   "version": "3.8.11"
  },
  "orig_nbformat": 4,
  "vscode": {
   "interpreter": {
    "hash": "06857816d295f49859cc9b744cb5307f357aa28072ae1f3fa176dda7f6176408"
   }
  }
 },
 "nbformat": 4,
 "nbformat_minor": 2
}
