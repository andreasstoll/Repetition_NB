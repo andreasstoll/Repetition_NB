{
 "cells": [
  {
   "cell_type": "markdown",
   "source": [
    "## List comprehension\n",
    "\n",
    "### Schleifen: Repetition\n",
    "\n",
    "Wollen wir Dinge wiederholen, können wir dies u.a. mit Schleifen erreichen.\n",
    "\n",
    "**Beispiel:**"
   ],
   "metadata": {}
  },
  {
   "cell_type": "code",
   "execution_count": 4,
   "source": [
    "staedte = [\"Olten\", \"Basel\", \"Zürich\", \"Lausanne\", \"Lugano\", \"Bern\"]\r\n",
    "\r\n",
    "print(f\"1. Stadt: {staedte[0]}\")\r\n",
    "print(f\"2. Stadt: {staedte[1]}\")\r\n",
    "print(f\"3. Stadt: {staedte[2]}\")\r\n",
    "print(f\"4. Stadt: {staedte[3]}\")\r\n",
    "print(f\"5. Stadt: {staedte[4]}\")\r\n",
    "print(f\"6. Stadt: {staedte[5]}\")"
   ],
   "outputs": [
    {
     "output_type": "stream",
     "name": "stdout",
     "text": [
      "1. Stadt: Olten\n",
      "2. Stadt: Basel\n",
      "3. Stadt: Zürich\n",
      "4. Stadt: Lausanne\n",
      "5. Stadt: Lugano\n",
      "6. Stadt: Bern\n"
     ]
    }
   ],
   "metadata": {}
  },
  {
   "cell_type": "markdown",
   "source": [
    "**Aufgabe 1:** Schreiben Sie den Code eleganter mit einer Schleife. \r\n",
    "\r\n",
    "Gehen Sie dabei folgendermassen vor:\r\n",
    "- Finden Sie ein Muster\r\n",
    "- Finden Sie Unterschiede\r\n",
    "- Parametrisieren Sie\r\n",
    "- Vereinigen Sie"
   ],
   "metadata": {}
  },
  {
   "cell_type": "code",
   "execution_count": 8,
   "source": [
    "for i in range(6):\r\n",
    "    print(staedte[i])"
   ],
   "outputs": [
    {
     "output_type": "stream",
     "name": "stdout",
     "text": [
      "Olten\n",
      "Basel\n",
      "Zürich\n",
      "Lausanne\n",
      "Lugano\n",
      "Bern\n"
     ]
    }
   ],
   "metadata": {}
  },
  {
   "cell_type": "code",
   "execution_count": 11,
   "source": [
    "for x in staedte:\r\n",
    "    print(x)"
   ],
   "outputs": [
    {
     "output_type": "stream",
     "name": "stdout",
     "text": [
      "Olten\n",
      "Basel\n",
      "Zürich\n",
      "Lausanne\n",
      "Lugano\n",
      "Bern\n"
     ]
    }
   ],
   "metadata": {}
  },
  {
   "cell_type": "markdown",
   "source": [
    "**Aufgabe 2:** Falls Sie die obige Aufgabe mit einer while-Schleife gelöst haben, so lösen Sie sie nun mit einer for-Schleife und umgekehrt."
   ],
   "metadata": {}
  },
  {
   "cell_type": "code",
   "execution_count": 9,
   "source": [
    "i=0\r\n",
    "while i < 6:\r\n",
    "    print(staedte[i])\r\n",
    "    i=i+1"
   ],
   "outputs": [
    {
     "output_type": "stream",
     "name": "stdout",
     "text": [
      "Olten\n",
      "Basel\n",
      "Zürich\n",
      "Lausanne\n",
      "Lugano\n",
      "Bern\n"
     ]
    }
   ],
   "metadata": {}
  },
  {
   "cell_type": "markdown",
   "source": [
    "### List comprehension"
   ],
   "metadata": {}
  },
  {
   "cell_type": "markdown",
   "source": [
    "**Beispiel:** Wir wollen eine Liste aller Dreierzahlen von 3 bis 30 erstellen."
   ],
   "metadata": {}
  },
  {
   "cell_type": "code",
   "execution_count": 4,
   "source": [
    "dreierliste = [3,6,8,12,15,18,21,24,27,30]\r\n",
    "\r\n",
    "print(dreierliste)"
   ],
   "outputs": [
    {
     "output_type": "stream",
     "name": "stdout",
     "text": [
      "[3, 6, 8, 12, 15, 18, 21, 24, 27, 30]\n"
     ]
    }
   ],
   "metadata": {}
  },
  {
   "cell_type": "markdown",
   "source": [
    "Es ist etwas gar umständliche alle Dreierzahlen zwischen 3 und 30 einzutippen. Auch diesen Code könnte man mit einer Schleife eleganter schreiben:"
   ],
   "metadata": {}
  },
  {
   "cell_type": "code",
   "execution_count": 5,
   "source": [
    "dreierliste_for = []\r\n",
    "\r\n",
    "for x in range(1,11):\r\n",
    "    dreierliste_for.append(3*x)\r\n",
    "\r\n",
    "print(dreierliste_for)"
   ],
   "outputs": [
    {
     "output_type": "stream",
     "name": "stdout",
     "text": [
      "[3, 6, 9, 12, 15, 18, 21, 24, 27, 30]\n"
     ]
    }
   ],
   "metadata": {}
  },
  {
   "cell_type": "markdown",
   "source": [
    "**Zusatzaufgabe 1:** Erzeugen Sie die obige Liste mit Hilfe einer while-Schleife."
   ],
   "metadata": {}
  },
  {
   "cell_type": "code",
   "execution_count": null,
   "source": [
    "#Hier kommt ihr Code hin"
   ],
   "outputs": [],
   "metadata": {}
  },
  {
   "cell_type": "markdown",
   "source": [],
   "metadata": {}
  },
  {
   "cell_type": "markdown",
   "source": [
    "**Aufgabe 3:** Erstellen Sie eine Liste alles **ungeraden** Zahlen zwischen 3 und 777 (inklusive 3 und 777) mit Hilfe einer Schleife."
   ],
   "metadata": {}
  },
  {
   "cell_type": "code",
   "execution_count": 6,
   "source": [
    "#Hier kommt ihr Code hin"
   ],
   "outputs": [],
   "metadata": {}
  },
  {
   "cell_type": "markdown",
   "source": [
    "Auch die Variante die Liste aller Dreierzahlen zwischen 3 und 30 mit einer for-Schleife zu erstellen, scheint eher umständlich zu sein.\n",
    "\n",
    "In der Mathematik könnte man diese Liste als Menge folgendermassen darstellen $\\{3x\\ |\\ 1 \\leq x \\leq 10\\}$, was deutlich schneller geht.\n",
    "\n",
    "Eine ganz ähnliche Notation funktioniert auch in Python und zwar mit Hilfe einer **List Comprehension** (Listen-Abstraktion):\n"
   ],
   "metadata": {}
  },
  {
   "cell_type": "code",
   "execution_count": 1,
   "source": [
    "dreierliste_lc = [3*x for x in range(1,11)]\r\n",
    "\r\n",
    "print(dreierliste_lc)"
   ],
   "outputs": [
    {
     "output_type": "stream",
     "name": "stdout",
     "text": [
      "[3, 6, 9, 12, 15, 18, 21, 24, 27, 30]\n"
     ]
    }
   ],
   "metadata": {}
  },
  {
   "cell_type": "markdown",
   "source": [
    "Dabei wird die folgende Syntax verwendet:\r\n",
    "\r\n",
    "Liste = $[$ Ausdruck for Element in andere Liste $]$\r\n",
    "\r\n",
    "In unserem Beispiel ist die Liste dreierliste_lc, der Ausdruck $3*x$, das Element x und die andere Liste range(1,11) = $[$ 1,2,…,10 $]$.\r\n",
    "\r\n",
    "Eine List Compehension entspricht also einer for-Schleife, welche eine Liste erzeigt. Die Syntax ist dabei sehr ähnlich wie die in der Mathematik. \r\n",
    "\r\n",
    "List Comprehensions können auch mit if-Bedingungen kombiniert werden.\r\n",
    "So liefert \r\n"
   ],
   "metadata": {}
  },
  {
   "cell_type": "code",
   "execution_count": 9,
   "source": [
    "dreierliste_gerade_lc = [3*x for x in range(1,11) if x%2==0]\r\n",
    "\r\n",
    "print(dreierliste_gerade_lc)"
   ],
   "outputs": [
    {
     "output_type": "stream",
     "name": "stdout",
     "text": [
      "[6, 12, 18, 24, 30]\n"
     ]
    }
   ],
   "metadata": {}
  },
  {
   "cell_type": "markdown",
   "source": [
    "nur die Geraden Dreierzahlen zwischen 3 und 30. Die Syntax ist die folgende:\r\n",
    "\r\n",
    "Liste = $[$ Ausdruck for Element in andere Liste if Bedingung $]$\r\n",
    "\r\n",
    "List Comprehensions funktionieren nicht nur mit Zahlen (beachten Sie, dass ein String in Python eine Liste von Zeichen ist):\r\n"
   ],
   "metadata": {}
  },
  {
   "cell_type": "code",
   "execution_count": 10,
   "source": [
    "li = [b for b in \"hallo\"]\r\n",
    "print(li)"
   ],
   "outputs": [
    {
     "output_type": "stream",
     "name": "stdout",
     "text": [
      "['h', 'a', 'l', 'l', 'o']\n"
     ]
    }
   ],
   "metadata": {}
  },
  {
   "cell_type": "markdown",
   "source": [
    "Auch hier kann mit einer if-Bedingung kombiniert werden:"
   ],
   "metadata": {}
  },
  {
   "cell_type": "code",
   "execution_count": 11,
   "source": [
    "li = [b for b in \"hallo\" if b in \"aeiou\"]\r\n",
    "\r\n",
    "print(li)"
   ],
   "outputs": [
    {
     "output_type": "stream",
     "name": "stdout",
     "text": [
      "['a', 'o']\n"
     ]
    }
   ],
   "metadata": {}
  },
  {
   "cell_type": "markdown",
   "source": [
    "**Aufgabe 4:** Erstellen Sie eine Liste aller Fünferzahlen zwischen 5 und 535 mit Hilfe einer List Comprehension und mit Hilfe einer \"normalen\" for-Schleife."
   ],
   "metadata": {}
  },
  {
   "cell_type": "code",
   "execution_count": null,
   "source": [
    "#Hier kommt Ihr Code hin (Lösung mit List Comprehension)"
   ],
   "outputs": [],
   "metadata": {}
  },
  {
   "cell_type": "code",
   "execution_count": null,
   "source": [
    "#Hier kommt Ihr Code hin (Lösung mit for-Schleife)"
   ],
   "outputs": [],
   "metadata": {}
  },
  {
   "cell_type": "markdown",
   "source": [
    "**Beispiel:** Wie gross ist die Wahrscheinlichkeit mit zwei Würfeln eine Augensumme von 7 zu würfeln?\n",
    "Mit dem ersten Würfel können 6 verschiedene Zahlen gewürfelt werden, mit dem zweiten ebenfalls, somit gibt es insgesamt $6  \\cdot 6 = 36$ mögliche Würfelwürfe von zwei Würfeln.\n",
    "\n",
    "Nun können wir uns überlegen wie viele davon eine Augensumme von 7 aufweisen:\n",
    "- (1,6): Der erste Würfel ist eine 1, der zweite eine 6\n",
    "- (2,5)\n",
    "- (3,4)\n",
    "- (4,3)\n",
    "- (5,2)\n",
    "- (6,1)\n",
    "\n",
    "Durch Aufzählen, sehen wir also, dass insgesamt 6 von den 36 Würfen von zwei Würfeln eine Augensumme 7 ergeben. \n",
    "Die Wahrscheinlichkeit, eine Augensumme von 7 zu erhalten bei zwei Würfen beträgt also \n",
    "$\\frac{6}{36}= \\frac{1}{6}$.\n",
    "\n",
    "Wir hätten aber auch TigerJython die Arbeit machen lassen können. Mit \n",
    "\n"
   ],
   "metadata": {}
  },
  {
   "cell_type": "code",
   "execution_count": 2,
   "source": [
    "siebner = [(x,y) for x in range(1,7) for y in range(1,7) if x+y==7]"
   ],
   "outputs": [],
   "metadata": {}
  },
  {
   "cell_type": "markdown",
   "source": [
    "können wir alle Zahlenpaare mit einer Summe von 7 erzeugen lassen. Mit "
   ],
   "metadata": {}
  },
  {
   "cell_type": "code",
   "execution_count": 3,
   "source": [
    "total = [(x,y) for x in range(1,7) for y in range(1,7)]"
   ],
   "outputs": [],
   "metadata": {}
  },
  {
   "cell_type": "markdown",
   "source": [
    "können wir alle möglichen Würfelwürfe ausgeben. Somit liefert die folgende Ausgabe die Wahrscheinlichkeit, dass die Augensumme von zwei Würfeln 7 beträgt:\n"
   ],
   "metadata": {}
  },
  {
   "cell_type": "code",
   "execution_count": 4,
   "source": [
    "print(len(siebner)/len(total))"
   ],
   "outputs": [
    {
     "output_type": "stream",
     "name": "stdout",
     "text": [
      "0.16666666666666666\n"
     ]
    }
   ],
   "metadata": {}
  },
  {
   "cell_type": "markdown",
   "source": [
    "Diese Ausgabe stimmt mit unseren obigen Überlegungen überein."
   ],
   "metadata": {}
  },
  {
   "cell_type": "markdown",
   "source": [
    "**Aufgabe 5:** \r\n",
    "- Berechnen Sie mit Hilfe von List Comprehension:\r\n",
    "Wie gross ist die Wahrscheinlichkeit mit 2 Würfeln eine Augensumme von 6 zu erhalten?"
   ],
   "metadata": {}
  },
  {
   "cell_type": "code",
   "execution_count": null,
   "source": [
    "#Hier kommt Ihr Code hin"
   ],
   "outputs": [],
   "metadata": {}
  },
  {
   "cell_type": "markdown",
   "source": [
    "- Berechnen Sie mit Hilfe von List Comprehension:\n",
    "Wie gross ist die Wahrscheinlichkeit mit 3 Würfeln eine Augensumme von 6 zu erhalten?"
   ],
   "metadata": {}
  },
  {
   "cell_type": "markdown",
   "source": [
    "**Zusatzaufgabe:** Erstellen Sie mit Hilfe von List Comprehension eine Liste aller Geraden Zahlen zwischen 2 und 98, welche NICHT durch 4 teilbar sind.\n",
    "Tipp: Arbeiten Sie mit Divisionsrest bei Divison durch 4 (% 4)."
   ],
   "metadata": {}
  },
  {
   "cell_type": "code",
   "execution_count": null,
   "source": [
    "#Hier kommt Ihr Code hin"
   ],
   "outputs": [],
   "metadata": {}
  }
 ],
 "metadata": {
  "interpreter": {
   "hash": "26130839a7e87fd59e038942810dbb4909e5232b32b1ad521e6a6bc3043702c6"
  },
  "kernelspec": {
   "name": "python3",
   "display_name": "Python 3.8.11 64-bit ('base': conda)"
  },
  "language_info": {
   "codemirror_mode": {
    "name": "ipython",
    "version": 3
   },
   "file_extension": ".py",
   "mimetype": "text/x-python",
   "name": "python",
   "nbconvert_exporter": "python",
   "pygments_lexer": "ipython3",
   "version": "3.8.11"
  },
  "orig_nbformat": 4
 },
 "nbformat": 4,
 "nbformat_minor": 2
}